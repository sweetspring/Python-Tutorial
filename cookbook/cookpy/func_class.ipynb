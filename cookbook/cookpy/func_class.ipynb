{
 "cells": [
  {
   "cell_type": "markdown",
   "metadata": {},
   "source": [
    "# 函数和类操作\n",
    "在本练习中你可以了解函数和类定义\n",
    "- 定义一个不带参数的函数\n",
    "- 定义一个带参数的函数\n",
    "- 定义一个带参数的函数,其中一个参数有缺省值\n",
    "- 定义一个带参数的函数,其中参数是一个列表\n",
    "- 定义一个类，并构造一个该类的实例，调用其实例方法"
   ]
  },
  {
   "cell_type": "code",
   "execution_count": 3,
   "metadata": {},
   "outputs": [
    {
     "name": "stdout",
     "output_type": "stream",
     "text": [
      "today my life begins\n"
     ]
    }
   ],
   "source": [
    "#定义一个不带参数的函数\n",
    "def today(): # no matter what day today is, leave the past behind you\n",
    "    return ('today my life begins')\n",
    "\n",
    "print(today())\n",
    "# 输出 \"today my life begins\""
   ]
  },
  {
   "cell_type": "code",
   "execution_count": 4,
   "metadata": {},
   "outputs": [
    {
     "name": "stdout",
     "output_type": "stream",
     "text": [
      "negative\n",
      "zero\n",
      "positive\n"
     ]
    }
   ],
   "source": [
    "#定义一个带参数的函数\n",
    "def sign(x):\n",
    "    if x > 0:\n",
    "        return 'positive'\n",
    "    elif x < 0:\n",
    "        return 'negative'\n",
    "    else:\n",
    "        return 'zero'\n",
    "\n",
    "for x in [-1, 0, 1]:\n",
    "    print(sign(x))\n",
    "# 输出 \"negative\", \"zero\", \"positive\""
   ]
  },
  {
   "cell_type": "code",
   "execution_count": 12,
   "metadata": {},
   "outputs": [
    {
     "name": "stdout",
     "output_type": "stream",
     "text": [
      "Hello, Mr. Smith!\n",
      "Hello, Ms. Rose\n"
     ]
    }
   ],
   "source": [
    "#定义一个带参数的函数,其中一个参数有缺省值\n",
    "def greet(name, sex = 'Male'):\n",
    "        if sex == 'Male':\n",
    "            print('Hello, Mr. %s!' % name)\n",
    "        else:\n",
    "            print('Hello, Ms. %s' % name)\n",
    "            \n",
    "greet('Smith')            #输出 Hello, Mr. Smith!\n",
    "greet('Rose',sex='Female')            #输出 Hello, Ms. Rose"
   ]
  },
  {
   "cell_type": "code",
   "execution_count": null,
   "metadata": {},
   "outputs": [],
   "source": [
    "#定义一个带参数的函数,其中参数是一个列表\n",
    "def quicksort(arr):\n",
    "    if len(arr) <= 1:\n",
    "        return arr\n",
    "    pivot = arr[len(arr) // 2]\n",
    "    left = [x for x in arr if x < pivot]\n",
    "    middle = [x for x in arr if x == pivot]\n",
    "    right = [x for x in arr if x > pivot]\n",
    "    return quicksort(left) + middle + quicksort(right)\n",
    "\n",
    "print(quicksort([3,6,8,10,1,2,1]))\n",
    "# 输出 \"[1, 1, 2, 3, 6, 8, 10]\""
   ]
  },
  {
   "cell_type": "code",
   "execution_count": 13,
   "metadata": {},
   "outputs": [
    {
     "name": "stdout",
     "output_type": "stream",
     "text": [
      "Hello, Mr. Wang!\n",
      "Hello, Ms. Wang\n"
     ]
    }
   ],
   "source": [
    "#定义一个类，并构造一个该类的实例，调用其实例方法\n",
    "class Greeter(object):\n",
    "\n",
    "    # 构造方法\n",
    "    def __init__(self, name):\n",
    "        self.name = name  # 创建一个实例变量\n",
    "\n",
    "    # 实例\n",
    "    def greet(self, sex = 'Male'):\n",
    "        if sex == 'Male':\n",
    "            print('Hello, Mr. %s!' % self.name)\n",
    "        else:\n",
    "            print('Hello, Ms. %s' % self.name)\n",
    "\n",
    "g = Greeter('Wang')  # 构造Greeter类的一个实例\n",
    "g.greet()            # 调用一个实例方法; 输出 \"Hello, Mr.Wang\"\n",
    "g.greet(sex='Female')   # 调用一个实例方法; 输出 \"Hello, Ms.Wang\""
   ]
  },
  {
   "cell_type": "code",
   "execution_count": 2,
   "metadata": {},
   "outputs": [
    {
     "name": "stdout",
     "output_type": "stream",
     "text": [
      "Happy Birthday, dear Emily.\n",
      "Happy Birthday, dear Andre.\n"
     ]
    }
   ],
   "source": [
    "'''Function definitions and invocation.'''\n",
    "\n",
    "def happyBirthdayEmily():\n",
    "    print(\"Happy Birthday, dear Emily.\")    \n",
    "\n",
    "def happyBirthdayAndre():\n",
    "    print(\"Happy Birthday, dear Andre.\")\n",
    "\n",
    "\n",
    "def main():\n",
    "    happyBirthdayEmily()\n",
    "    happyBirthdayAndre()\n",
    "\n",
    "main()"
   ]
  },
  {
   "cell_type": "code",
   "execution_count": 3,
   "metadata": {},
   "outputs": [
    {
     "name": "stdout",
     "output_type": "stream",
     "text": [
      "Happy Birthday, dear Emily.\n",
      "Happy Birthday, dear Andre.\n"
     ]
    }
   ],
   "source": [
    "'''Function definitions and invocation.'''\n",
    "\n",
    "def happyBirthday(name):\n",
    "    print(\"Happy Birthday, dear %s.\" % name)    \n",
    "\n",
    "\n",
    "def main():\n",
    "    happyBirthday(\"Emily\")\n",
    "    happyBirthday(\"Andre\")\n",
    "\n",
    "main()"
   ]
  },
  {
   "cell_type": "code",
   "execution_count": 4,
   "metadata": {},
   "outputs": [
    {
     "name": "stdout",
     "output_type": "stream",
     "text": [
      "Enter a specific example for city: shanghai\n",
      "Enter a specific example for animal: cat\n",
      "Enter a specific example for food: fruit\n",
      "\n",
      "Once upon a time, deep in an ancient jungle,\n",
      "there lived a cat.  This cat\n",
      "liked to eat fruit, but the jungle had\n",
      "very little fruit to offer.  One day, an\n",
      "explorer found the cat and discovered\n",
      "it liked fruit.  The explorer took the\n",
      "cat back to shanghai, where it could\n",
      "eat as much fruit as it wanted.  However,\n",
      "the cat became homesick, so the\n",
      "explorer brought it back to the jungle,\n",
      "leaving a large supply of fruit.\n",
      "\n",
      "The End\n",
      "\n",
      "Press Enter to end the program.\n"
     ]
    }
   ],
   "source": [
    "\"\"\"\n",
    "madlib2.py\n",
    "Interactive display of a mad lib, which is provided as a Python format string,\n",
    "with all the cues being dictionary formats, in the form {cue}.\n",
    "\n",
    "In this version, the cues are extracted from the story automatically,\n",
    "and the user is prompted for the replacements.\n",
    "\n",
    "Original verison adapted from code of Kirby Urner\n",
    "\"\"\"\n",
    "\n",
    "def getKeys(formatString):\n",
    "    '''formatString is a format string with embedded dictionary keys.\n",
    "    Return a set containing all the keys from the format string.'''\n",
    "\n",
    "    keyList = list()\n",
    "    end = 0\n",
    "    repetitions = formatString.count('{')\n",
    "    for i in range(repetitions):\n",
    "        start = formatString.find('{', end) + 1 # pass the '{'\n",
    "        end = formatString.find('}', start)\n",
    "        key = formatString[start : end]\n",
    "        keyList.append(key) # may add duplicates\n",
    "\n",
    "    return set(keyList) # removes duplicates: no duplicates in a set\n",
    "\n",
    "def addPick(cue, dictionary): # from madlibDict.py\n",
    "    '''Prompt for a user response using the cue string,\n",
    "    and place the cue-response pair in the dictionary.\n",
    "    '''\n",
    "    promptFormat = \"Enter a specific example for {name}: \"\n",
    "    prompt = promptFormat.format(name=cue)\n",
    "    response = input(prompt)\n",
    "    dictionary[cue] = response                                                             \n",
    "\n",
    "\n",
    "def getUserPicks(cues):\n",
    "    '''Loop through the collection of cue keys and get user choices.\n",
    "    Return the resulting dictionary.\n",
    "    '''\n",
    "    userPicks = dict()\n",
    "    for cue in cues:\n",
    "        addPick(cue, userPicks)\n",
    "    return userPicks   \n",
    "\n",
    "def tellStory(storyFormat):\n",
    "    '''storyFormat is a string with Python dictionary references embedded,\n",
    "    in the form {cue}.  Prompt the user for the mad lib substitutions\n",
    "    and then print the resulting story with the substitutions.\n",
    "    '''\n",
    "    cues = getKeys(storyFormat)\n",
    "    userPicks = getUserPicks(cues)\n",
    "    story = storyFormat.format(**userPicks)\n",
    "    print(story)\n",
    "\n",
    "def main():\n",
    "    originalStoryFormat = '''\n",
    "Once upon a time, deep in an ancient jungle,\n",
    "there lived a {animal}.  This {animal}\n",
    "liked to eat {food}, but the jungle had\n",
    "very little {food} to offer.  One day, an\n",
    "explorer found the {animal} and discovered\n",
    "it liked {food}.  The explorer took the\n",
    "{animal} back to {city}, where it could\n",
    "eat as much {food} as it wanted.  However,\n",
    "the {animal} became homesick, so the\n",
    "explorer brought it back to the jungle,\n",
    "leaving a large supply of {food}.\n",
    "\n",
    "The End\n",
    "'''\n",
    "    tellStory(originalStoryFormat)\n",
    "    input(\"Press Enter to end the program.(输入回车结束)\")        \n",
    "\n",
    "\n",
    "main()"
   ]
  },
  {
   "cell_type": "code",
   "execution_count": null,
   "metadata": {},
   "outputs": [],
   "source": []
  }
 ],
 "metadata": {
  "kernelspec": {
   "display_name": "Python 3",
   "language": "python",
   "name": "python3"
  },
  "language_info": {
   "codemirror_mode": {
    "name": "ipython",
    "version": 3
   },
   "file_extension": ".py",
   "mimetype": "text/x-python",
   "name": "python",
   "nbconvert_exporter": "python",
   "pygments_lexer": "ipython3",
   "version": "3.5.2"
  }
 },
 "nbformat": 4,
 "nbformat_minor": 1
}
