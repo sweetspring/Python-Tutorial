{
 "cells": [
  {
   "cell_type": "markdown",
   "metadata": {},
   "source": [
    "# 基本语法（变量类型，数学运算，逻辑运算）操作\n",
    "在本练习中你可以了解python基本语法\n",
    "- 变量类型\n",
    "- 取长度、最大值\n",
    "- 字符串和数字的转换\n",
    "- 数学运算\n",
    "- 逻辑运算\n"
   ]
  },
  {
   "cell_type": "code",
   "execution_count": 1,
   "metadata": {},
   "outputs": [
    {
     "data": {
      "text/plain": [
       "float"
      ]
     },
     "execution_count": 1,
     "metadata": {},
     "output_type": "execute_result"
    }
   ],
   "source": [
    "type(1.25)"
   ]
  },
  {
   "cell_type": "code",
   "execution_count": 2,
   "metadata": {},
   "outputs": [
    {
     "data": {
      "text/plain": [
       "int"
      ]
     },
     "execution_count": 2,
     "metadata": {},
     "output_type": "execute_result"
    }
   ],
   "source": [
    "type(7)"
   ]
  },
  {
   "cell_type": "code",
   "execution_count": 3,
   "metadata": {},
   "outputs": [
    {
     "data": {
      "text/plain": [
       "str"
      ]
     },
     "execution_count": 3,
     "metadata": {},
     "output_type": "execute_result"
    }
   ],
   "source": [
    "type('hello')"
   ]
  },
  {
   "cell_type": "code",
   "execution_count": 4,
   "metadata": {},
   "outputs": [
    {
     "data": {
      "text/plain": [
       "list"
      ]
     },
     "execution_count": 4,
     "metadata": {},
     "output_type": "execute_result"
    }
   ],
   "source": [
    "type([1, 2, 3])"
   ]
  },
  {
   "cell_type": "code",
   "execution_count": 5,
   "metadata": {},
   "outputs": [
    {
     "data": {
      "text/plain": [
       "3"
      ]
     },
     "execution_count": 5,
     "metadata": {},
     "output_type": "execute_result"
    }
   ],
   "source": [
    "len([2, 4, 6])"
   ]
  },
  {
   "cell_type": "code",
   "execution_count": 6,
   "metadata": {},
   "outputs": [
    {
     "data": {
      "text/plain": [
       "4"
      ]
     },
     "execution_count": 6,
     "metadata": {},
     "output_type": "execute_result"
    }
   ],
   "source": [
    "len('abcd')"
   ]
  },
  {
   "cell_type": "code",
   "execution_count": 7,
   "metadata": {},
   "outputs": [
    {
     "data": {
      "text/plain": [
       "[]"
      ]
     },
     "execution_count": 7,
     "metadata": {},
     "output_type": "execute_result"
    }
   ],
   "source": [
    "list()"
   ]
  },
  {
   "cell_type": "code",
   "execution_count": 8,
   "metadata": {},
   "outputs": [
    {
     "data": {
      "text/plain": [
       "11"
      ]
     },
     "execution_count": 8,
     "metadata": {},
     "output_type": "execute_result"
    }
   ],
   "source": [
    "max(5, 11, 2)"
   ]
  },
  {
   "cell_type": "code",
   "execution_count": 9,
   "metadata": {},
   "outputs": [
    {
     "data": {
      "text/plain": [
       "'23'"
      ]
     },
     "execution_count": 9,
     "metadata": {},
     "output_type": "execute_result"
    }
   ],
   "source": [
    "str(23)"
   ]
  },
  {
   "cell_type": "code",
   "execution_count": 10,
   "metadata": {},
   "outputs": [
    {
     "data": {
      "text/plain": [
       "125"
      ]
     },
     "execution_count": 10,
     "metadata": {},
     "output_type": "execute_result"
    }
   ],
   "source": [
    "int('125')"
   ]
  },
  {
   "cell_type": "code",
   "execution_count": 12,
   "metadata": {},
   "outputs": [
    {
     "name": "stdout",
     "output_type": "stream",
     "text": [
      "4\n",
      "3\n",
      "0\n",
      "0\n",
      "6\n",
      "0.75\n"
     ]
    }
   ],
   "source": [
    "print(23//5)  #除法，只获得整数\n",
    "print(23%5)\n",
    "print(20%5)\n",
    "print(6//8)\n",
    "print(6%8)\n",
    "print(6/8)"
   ]
  },
  {
   "cell_type": "code",
   "execution_count": 14,
   "metadata": {},
   "outputs": [
    {
     "name": "stdout",
     "output_type": "stream",
     "text": [
      "9\n",
      "72\n"
     ]
    }
   ],
   "source": [
    "print(7+2)\n",
    "print('7'+'2')"
   ]
  },
  {
   "cell_type": "code",
   "execution_count": 1,
   "metadata": {},
   "outputs": [
    {
     "name": "stdout",
     "output_type": "stream",
     "text": [
      "<class 'int'>\n",
      "5\n",
      "6\n",
      "4\n",
      "10\n",
      "25\n",
      "125\n",
      "6\n",
      "12\n",
      "<class 'float'>\n",
      "2.5 3.5 5.0 6.25\n",
      "1\n"
     ]
    }
   ],
   "source": [
    "#加减乘除\n",
    "x = 5\n",
    "print(type(x)) # 输出 \"<class 'int'>\"\n",
    "print(x)       # 输出 \"5\"\n",
    "print(x + 1)   # 加; 输出 \"6\"\n",
    "print(x - 1)   # 减; 输出 \"4\"\n",
    "print(x * 2)   # 乘; 输出 \"10\"\n",
    "print(x ** 2)  # 平方; 输出 \"25\"\n",
    "print(x ** 3)  # 立方; 输出 \"125\"\n",
    "x += 1\n",
    "print(x)  # 输出 \"6\"\n",
    "x *= 2\n",
    "print(x)  # 输出 \"12\"\n",
    "y = 2.5\n",
    "print(type(y)) # 输出 \"<class 'float'>\"\n",
    "print(y, y + 1, y * 2, y ** 2) # 输出 \"2.5 3.5 5.0 6.25\"\n",
    "a = 7\n",
    "b = a%2\n",
    "print(b) # 输出 1"
   ]
  },
  {
   "cell_type": "code",
   "execution_count": null,
   "metadata": {},
   "outputs": [],
   "source": [
    "#逻辑运算\n",
    "t = True\n",
    "f = False\n",
    "print(type(t)) # 输出 \"<class 'bool'>\"\n",
    "print(t and f) # 逻辑与; 输出 \"False\"\n",
    "print(t or f)  # 逻辑或; 输出 \"True\"\n",
    "print(not t)   # 逻辑非; 输出 \"False\"\n",
    "print(t != f)  # 逻辑与或; 输出 \"True\""
   ]
  }
 ],
 "metadata": {
  "kernelspec": {
   "display_name": "Python 3",
   "language": "python",
   "name": "python3"
  },
  "language_info": {
   "codemirror_mode": {
    "name": "ipython",
    "version": 3
   },
   "file_extension": ".py",
   "mimetype": "text/x-python",
   "name": "python",
   "nbconvert_exporter": "python",
   "pygments_lexer": "ipython3",
   "version": "3.5.2"
  }
 },
 "nbformat": 4,
 "nbformat_minor": 1
}
