{
 "cells": [
  {
   "cell_type": "markdown",
   "metadata": {},
   "source": [
    "# 字符串操作 (String)\n",
    "\n",
    "在本练习中你可以完成大部分常用的字符串\n",
    "\n",
    "- 寻找子字符串\n",
    "- 连接字符串\n"
   ]
  },
  {
   "cell_type": "code",
   "execution_count": 6,
   "metadata": {},
   "outputs": [
    {
     "name": "stdout",
     "output_type": "stream",
     "text": [
      "very very very hot\n"
     ]
    }
   ],
   "source": [
    "#字符串可以通过乘法重复\n",
    "print(3*'very ' + 'hot')"
   ]
  },
  {
   "cell_type": "code",
   "execution_count": 20,
   "metadata": {},
   "outputs": [
    {
     "name": "stdout",
     "output_type": "stream",
     "text": [
      "okOK\n"
     ]
    }
   ],
   "source": [
    "s = 'ok'\n",
    "print(s.lower() + s.upper())"
   ]
  },
  {
   "cell_type": "code",
   "execution_count": 10,
   "metadata": {},
   "outputs": [
    {
     "name": "stdout",
     "output_type": "stream",
     "text": [
      "Enter your name: tom\n",
      "Hello, tom!\n"
     ]
    }
   ],
   "source": [
    "#输入字符串\n",
    "'''Hello to you!  Illustrates format with {} in print.\n",
    "'''\n",
    "\n",
    "person = input('Enter your name: ')\n",
    "greeting = 'Hello, {}!'.format(person)\n",
    "print(greeting)"
   ]
  },
  {
   "cell_type": "code",
   "execution_count": 17,
   "metadata": {},
   "outputs": [
    {
     "name": "stdout",
     "output_type": "stream",
     "text": [
      "['Go:', 'Tear', 'some', 'strings', 'apart!']\n",
      "['Go', '  Tear some strings apart!']\n",
      "['Go:  Te', ' some strings ap', 't!']\n"
     ]
    }
   ],
   "source": [
    "line = 'Go:  Tear some strings apart!'\n",
    "print(line.split())\n",
    "print(line.split(':'))\n",
    "print(line.split('ar'))\n"
   ]
  },
  {
   "cell_type": "code",
   "execution_count": 19,
   "metadata": {},
   "outputs": [
    {
     "name": "stdout",
     "output_type": "stream",
     "text": [
      "Go:##Tear##some##strings##apart!\n",
      "one:two:three\n"
     ]
    }
   ],
   "source": [
    "#大风起兮云飞扬，威加海内兮归故乡。\n",
    "print('##'.join(seq))\n",
    "print(':'.join(['one', 'two', 'three']))"
   ]
  },
  {
   "cell_type": "code",
   "execution_count": 3,
   "metadata": {},
   "outputs": [
    {
     "name": "stdout",
     "output_type": "stream",
     "text": [
      "hello\n",
      "5\n",
      "hello world\n",
      "hello world 2017\n"
     ]
    }
   ],
   "source": [
    "#连接字符串\n",
    "hello = 'hello'    # 字符串可以用单引号\n",
    "world = \"world\"    # 也可以用双引号\n",
    "print(hello)       # 输出 \"hello\"\n",
    "print(len(hello))  # 字符串长度; 输出 \"5\"\n",
    "hw = hello + ' ' + world  # 字符串连接\n",
    "print(hw)  # 输出 \"hello world\"\n",
    "hw2017 = '%s %s %d' % (hello, world, 2017)  # 输出格式化\n",
    "print(hw2017)  # 输出 \"hello world 2017\""
   ]
  },
  {
   "cell_type": "code",
   "execution_count": 23,
   "metadata": {},
   "outputs": [
    {
     "name": "stdout",
     "output_type": "stream",
     "text": [
      "['大风起兮云飞扬，', '威加海内兮归故乡。']\n",
      "{'威加海内兮归故乡。', '大风起兮云飞扬，'}\n"
     ]
    }
   ],
   "source": [
    "poem = list()\n",
    "poem.append('大风起兮云飞扬，')\n",
    "poem.append('威加海内兮归故乡。')\n",
    "print(poem)\n",
    "setpoem = set(poem)\n",
    "print(setpoem)"
   ]
  },
  {
   "cell_type": "code",
   "execution_count": 2,
   "metadata": {},
   "outputs": [
    {
     "name": "stdout",
     "output_type": "stream",
     "text": [
      "甘肃在黄河的西北边\n"
     ]
    }
   ],
   "source": [
    "#寻找指定字符在字符串中的位置，并输出其后面的字符串\n",
    "momStr = '1)\t甘肃在黄河的西北边'\n",
    "subStr = '\\t' \n",
    "found = momStr[momStr.find(subStr) + 1:]\n",
    "print (found)"
   ]
  },
  {
   "cell_type": "code",
   "execution_count": 4,
   "metadata": {},
   "outputs": [
    {
     "name": "stdout",
     "output_type": "stream",
     "text": [
      "o\n",
      "ell\n",
      "高堂明镜悲白发\n",
      "白发\n",
      "高堂\n",
      "明镜\n",
      "高堂明镜悲白\n"
     ]
    }
   ],
   "source": [
    "#取子字符串\n",
    "print(hello[len(hello)-1])  # 截取字符串; 输出 \"o\"\n",
    "print(hello[1:len(hello)-1])  # 截取字符串; 输出 \"ell\"\n",
    "\n",
    "poem = '高堂明镜悲白发'\n",
    "print(poem[:])  # 截取字符串; 输出 \"高堂明镜悲白发\"\n",
    "print(poem[5:])  # 截取字符串; 输出 \"白发\"\n",
    "print(poem[:2])  # 截取字符串; 输出 \"高堂\"\n",
    "print(poem[2:4])  # 截取字符串; 输出 \"明镜\"\n",
    "print(poem[:-1])  # 截取字符串; 输出 \"高堂明镜悲白\""
   ]
  },
  {
   "cell_type": "code",
   "execution_count": 9,
   "metadata": {},
   "outputs": [
    {
     "name": "stdout",
     "output_type": "stream",
     "text": [
      "　　宋·朱熹\n",
      "\n",
      "　　胜日寻芳泗水滨，无边光景一时新。\n",
      "　　等闲识得东风面，万紫千红总是春。\n",
      "    \"I can't read Chinese!\"\n",
      "    \n"
     ]
    }
   ],
   "source": [
    "#多行注释和字符赋值都可以用'''\n",
    "sillyTest = '''　　宋·朱熹\n",
    "\n",
    "　　胜日寻芳泗水滨，无边光景一时新。\n",
    "　　等闲识得东风面，万紫千红总是春。\n",
    "    \"I can't read Chinese!\"\n",
    "    '''\n",
    "print(sillyTest)"
   ]
  },
  {
   "cell_type": "code",
   "execution_count": 13,
   "metadata": {},
   "outputs": [
    {
     "name": "stdout",
     "output_type": "stream",
     "text": [
      "The sum of 5 and 9 is 14.\n"
     ]
    }
   ],
   "source": [
    "'''Two numeric inputs, explicit sum'''\n",
    "\n",
    "x = 5\n",
    "y = 9 \n",
    "sum = x+y\n",
    "sentence = 'The sum of {} and {} is {}.'.format(x, y, sum)\n",
    "print(sentence)"
   ]
  },
  {
   "cell_type": "code",
   "execution_count": 11,
   "metadata": {},
   "outputs": [
    {
     "name": "stdout",
     "output_type": "stream",
     "text": [
      "The set is {5, 9}.\n"
     ]
    }
   ],
   "source": [
    "'''Illustrate braces in a formatted string.'''\n",
    "a = 5\n",
    "b = 9\n",
    "setStr = 'The set is {{{}, {}}}.'.format(a, b)\n",
    "print(setStr)"
   ]
  },
  {
   "cell_type": "code",
   "execution_count": 15,
   "metadata": {},
   "outputs": [
    {
     "name": "stdout",
     "output_type": "stream",
     "text": [
      "The full string is:  黄河远上白云间\n",
      "\n",
      "i = 0\n",
      "The letter at index i: 黄\n",
      "The part before index i (if any): \n",
      "The part before index i+2: 黄河\n",
      "\n",
      "i = 1\n",
      "The letter at index i: 河\n",
      "The part before index i (if any): 黄\n",
      "The part before index i+2: 黄河远\n",
      "\n",
      "i = 2\n",
      "The letter at index i: 远\n",
      "The part before index i (if any): 黄河\n",
      "The part before index i+2: 黄河远上\n",
      "\n",
      "i = 3\n",
      "The letter at index i: 上\n",
      "The part before index i (if any): 黄河远\n",
      "The part before index i+2: 黄河远上白\n",
      "\n",
      "i = 4\n",
      "The letter at index i: 白\n",
      "The part before index i (if any): 黄河远上\n",
      "The part before index i+2: 黄河远上白云\n",
      "\n",
      "i = 5\n",
      "The letter at index i: 云\n",
      "The part before index i (if any): 黄河远上白\n",
      "The part before index i+2: 黄河远上白云间\n",
      "\n",
      "i = 6\n",
      "The letter at index i: 间\n",
      "The part before index i (if any): 黄河远上白云\n",
      "The part before index i+2: 黄河远上白云间\n"
     ]
    }
   ],
   "source": [
    "s = '黄河远上白云间'\n",
    "print('The full string is: ', s)\n",
    "n = len(s)\n",
    "for i in range(n):\n",
    "    print()\n",
    "    print('i =', i)\n",
    "    print('The letter at index i:', s[i])\n",
    "    print('The part before index i (if any):', s[:i])\n",
    "    print('The part before index i+2:', s[:i+2])"
   ]
  },
  {
   "cell_type": "code",
   "execution_count": null,
   "metadata": {},
   "outputs": [],
   "source": []
  }
 ],
 "metadata": {
  "kernelspec": {
   "display_name": "Python 3",
   "language": "python",
   "name": "python3"
  },
  "language_info": {
   "codemirror_mode": {
    "name": "ipython",
    "version": 3
   },
   "file_extension": ".py",
   "mimetype": "text/x-python",
   "name": "python",
   "nbconvert_exporter": "python",
   "pygments_lexer": "ipython3",
   "version": "3.5.2"
  }
 },
 "nbformat": 4,
 "nbformat_minor": 1
}
