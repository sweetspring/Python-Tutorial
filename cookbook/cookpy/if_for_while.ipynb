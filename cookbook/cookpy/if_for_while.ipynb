{
 "cells": [
  {
   "cell_type": "markdown",
   "metadata": {},
   "source": [
    "# 语句操作 (if, for, while)\n",
    "在本练习中你可以了解python语句\n",
    "- if\n",
    "- for\n",
    "- while\n"
   ]
  },
  {
   "cell_type": "code",
   "execution_count": null,
   "metadata": {},
   "outputs": [],
   "source": [
    "print(2 < 5)\n",
    "print(5 > 2)\n",
    "x = 15\n",
    "print(x > 10)\n",
    "print(3 * x < x)\n",
    "print(type(True))\n",
    "\n",
    "# 输出：\n",
    "# True\n",
    "# True\n",
    "# True\n",
    "# False\n",
    "# <class 'bool'>"
   ]
  },
  {
   "cell_type": "code",
   "execution_count": null,
   "metadata": {},
   "outputs": [],
   "source": [
    "'''\n",
    "A.国际航班随身携带物品：\n",
    "免费随身携带物品的重量，持头等舱、公务舱客票的旅客，每人可随身携带两件物品，每件行李以8千克为限；持经济舱客票的旅客，每人可随身携带一件物品，以5千克为限。\n",
    "B.国内航班随身携带物品：\n",
    "每位头等舱旅客可随身携带两件行李，每件行李重量不得超过5千克；每位公务舱和经济舱旅客可随身携带一件行李，重量不得超过5千克。\n",
    "C.体积：\n",
    "每件随身携带物品的长、宽、高分别不超过55CM（21英寸）、40CM（15英寸）、20CM（7英寸）； \n",
    "'''\n",
    "\n",
    "\n",
    "weight = float(input(\"你的行李箱多重(Kg)? \"))\n",
    "if weight > 5:\n",
    "        print(\"国内航班每位公务舱和经济舱旅客可随身携带一件行李，重量不得超过5千克。\")\n",
    "print(\"感谢配合\")"
   ]
  },
  {
   "cell_type": "code",
   "execution_count": 1,
   "metadata": {},
   "outputs": [
    {
     "name": "stdout",
     "output_type": "stream",
     "text": [
      "What is the temperature? 30\n",
      "Wear shorts.\n",
      "Get some exercise outside.\n"
     ]
    }
   ],
   "source": [
    "temperature = float(input('What is the temperature? '))\n",
    "if temperature > 25:\n",
    "        print('Wear shorts.')\n",
    "else:\n",
    "        print('Wear long pants.')\n",
    "print('Get some exercise outside.')\n"
   ]
  },
  {
   "cell_type": "code",
   "execution_count": 5,
   "metadata": {},
   "outputs": [
    {
     "data": {
      "text/plain": [
       "'B'"
      ]
     },
     "execution_count": 5,
     "metadata": {},
     "output_type": "execute_result"
    }
   ],
   "source": [
    "'''\n",
    "Meaning \t          Math Symbol \tPython Symbols\n",
    "Less than \t            < \t         <\n",
    "Greater than \t        > \t         >\n",
    "Less than or equal \t≤ \t         <=\n",
    "Greater than or equal \t≥ \t         >=\n",
    "Equals \t            = \t         ==\n",
    "Not equal \t            ≠ \t         !=\n",
    "'''\n",
    "def letterGrade(score):\n",
    "    if score >= 90:\n",
    "        letter = 'A'\n",
    "    else:   # grade must be B, C, D or F\n",
    "        if score >= 80:\n",
    "            letter = 'B'\n",
    "        else:  # grade must be C, D or F\n",
    "            if score >= 70:\n",
    "                letter = 'C'\n",
    "            else:    # grade must D or F\n",
    "                if score >= 60:\n",
    "                    letter = 'D'\n",
    "                else:\n",
    "                    letter = 'F'\n",
    "    return letter\n",
    "\n",
    "letterGrade(89)"
   ]
  },
  {
   "cell_type": "code",
   "execution_count": 6,
   "metadata": {},
   "outputs": [
    {
     "data": {
      "text/plain": [
       "'B'"
      ]
     },
     "execution_count": 6,
     "metadata": {},
     "output_type": "execute_result"
    }
   ],
   "source": [
    "def letterGrade(score):\n",
    "    if score >= 90:\n",
    "        letter = 'A'\n",
    "    elif score >= 80:\n",
    "        letter = 'B'\n",
    "    elif score >= 70:\n",
    "        letter = 'C'\n",
    "    elif score >= 60:\n",
    "        letter = 'D'\n",
    "    else:\n",
    "        letter = 'F'\n",
    "    return letter\n",
    "\n",
    "letterGrade(89)"
   ]
  },
  {
   "cell_type": "code",
   "execution_count": 7,
   "metadata": {},
   "outputs": [
    {
     "name": "stdout",
     "output_type": "stream",
     "text": [
      "3\n",
      "2\n",
      "7\n"
     ]
    }
   ],
   "source": [
    "def printAllPositive(numberList):\n",
    "    '''Print only the positive numbers in numberList.'''\n",
    "    for num in numberList:\n",
    "        if num > 0:\n",
    "            print(num)\n",
    "\n",
    "printAllPositive([3, -5, 2, -1, 7])"
   ]
  },
  {
   "cell_type": "code",
   "execution_count": 10,
   "metadata": {},
   "outputs": [
    {
     "name": "stdout",
     "output_type": "stream",
     "text": [
      "False\n",
      "True\n"
     ]
    }
   ],
   "source": [
    "x=10\n",
    "y=30\n",
    "\n",
    "print(x>20 and y >20)\n",
    "print(x>20 or y >20)"
   ]
  },
  {
   "cell_type": "code",
   "execution_count": 5,
   "metadata": {},
   "outputs": [
    {
     "name": "stdout",
     "output_type": "stream",
     "text": [
      "过了 15 岁那一年\n",
      "过了 16 岁那一年\n",
      "过了 17 岁那一年\n",
      "恭喜，终于成年啦\n"
     ]
    }
   ],
   "source": [
    "age = 15\n",
    "while age < 18:    \n",
    "    print(\"过了\",age,\"岁那一年\")\n",
    "    age +=1\n",
    "\n",
    "print(\"恭喜，终于成年啦\")    "
   ]
  },
  {
   "cell_type": "code",
   "execution_count": null,
   "metadata": {},
   "outputs": [],
   "source": []
  }
 ],
 "metadata": {
  "kernelspec": {
   "display_name": "Python 3",
   "language": "python",
   "name": "python3"
  },
  "language_info": {
   "codemirror_mode": {
    "name": "ipython",
    "version": 3
   },
   "file_extension": ".py",
   "mimetype": "text/x-python",
   "name": "python",
   "nbconvert_exporter": "python",
   "pygments_lexer": "ipython3",
   "version": "3.5.2"
  }
 },
 "nbformat": 4,
 "nbformat_minor": 1
}
