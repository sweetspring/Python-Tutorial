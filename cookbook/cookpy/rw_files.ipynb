{
 "cells": [
  {
   "cell_type": "markdown",
   "metadata": {},
   "source": [
    "# 读写文件 (Read/Write Files)\n",
    "在本练习中你可以完成大部分常用的文件操作\n",
    "-读取一个文件夹的所有文件名\n",
    "-读取一个文件\n",
    "-写一个文件\n",
    "-按照UTF8编码读取一个文件"
   ]
  },
  {
   "cell_type": "code",
   "execution_count": 1,
   "metadata": {},
   "outputs": [
    {
     "name": "stdout",
     "output_type": "stream",
     "text": [
      "./from/poem1.txt\n",
      "./from/poem2.txt\n"
     ]
    }
   ],
   "source": [
    "#遍历文件夹，读取一个文件夹的所有文件名\n",
    "import os\n",
    "import codecs\n",
    "from_dir = './from';\n",
    "if os.path.exists(os.path.abspath(from_dir)): # 判断文件夹是否存在\n",
    "  for z in os.listdir(from_dir): #遍历文件夹\n",
    "    file_name = os.path.join(from_dir,z)\n",
    "    if not os.path.isdir(file_name):\n",
    "      print (file_name);"
   ]
  },
  {
   "cell_type": "code",
   "execution_count": 2,
   "metadata": {},
   "outputs": [],
   "source": [
    "#写一段内容到一个文件中\n",
    "to_dir = './output';\n",
    "if not os.path.exists(os.path.abspath(to_dir)): # 判断文件夹是否存在\n",
    "     os.mkdir(os.path.abspath(to_dir));#如果不存在，则创建这个文件夹\n",
    "foutname =  to_dir + '/gopy_file_filewrite_out.txt';    \n",
    "fout = codecs.open(foutname, 'w', 'utf-8') \n",
    "sout = '空山新雨后，天气晚来秋。\\\n",
    "明月松间照，清泉石上流。'\n",
    "fout.write(sout);\n",
    "fout.close();"
   ]
  },
  {
   "cell_type": "code",
   "execution_count": 3,
   "metadata": {},
   "outputs": [
    {
     "name": "stdout",
     "output_type": "stream",
     "text": [
      "['空山新雨后，天气晚来秋。明月松间照，清泉石上流。']\n"
     ]
    }
   ],
   "source": [
    "#打开文件，读取所有内容\n",
    "finname = foutname\n",
    "fin = codecs.open(finname, 'r', 'utf-8') \n",
    "print (fin.readlines());\n",
    "fin.close();"
   ]
  },
  {
   "cell_type": "code",
   "execution_count": 4,
   "metadata": {},
   "outputs": [
    {
     "name": "stdout",
     "output_type": "stream",
     "text": [
      "文件./from/poem1.txt的内容：\n",
      "天门中断楚江开，\n",
      "碧水东流至此回。\n",
      "两岸青山相对出，\n",
      "孤帆一片日边来。\n",
      "\n",
      "-----------------------------------------------------------------------------------\n",
      "\n",
      "文件./from/poem2.txt的内容：\n",
      "移舟泊烟渚，\n",
      "日暮客愁新。\n",
      "野旷天低树，\n",
      "江清月近人。\n",
      "\n",
      "-----------------------------------------------------------------------------------\n",
      "\n"
     ]
    }
   ],
   "source": [
    "#遍历文件夹，读取一个文件夹的所有文件的内容\n",
    "def fileread1(finname):\n",
    "    fin = codecs.open(finname, 'r', 'utf-8') \n",
    "    print ( '文件' + finname + '的内容：');\n",
    "    print (fin.read());\n",
    "    print ('-----------------------------------------------------------------------------------\\n');\n",
    "    fin.close();\n",
    "    \n",
    "def fileread2(finname):\n",
    "    fin = codecs.open(finname, 'r', 'utf-8') \n",
    "    print ( '文件' + finname + '的内容：');\n",
    "    print (fin.readlines());\n",
    "    print ('-----------------------------------------------------------------------------------\\n');\n",
    "    fin.close();\n",
    "\n",
    "def fileread3(finname):\n",
    "    fin = codecs.open(finname, 'r', 'utf-8') \n",
    "    print ( '文件' + finname + '的内容：');\n",
    "    line = fin.readline();\n",
    "    while line:\n",
    "      print (line);\n",
    "      line = fin.readline()\n",
    "    print ('-----------------------------------------------------------------------------------\\n');\n",
    "    fin.close();\n",
    "    \n",
    "from_dir = './from';\n",
    "if os.path.exists(os.path.abspath(from_dir)): # 判断文件夹是否存在\n",
    "  for z in os.listdir(from_dir): #遍历文件夹\n",
    "    file_name = os.path.join(from_dir,z)\n",
    "    if not os.path.isdir(file_name):\n",
    "      fileread1 (file_name); #切换fileread1，fileread2，fileread3查看read、readlines、readline的区别"
   ]
  },
  {
   "cell_type": "code",
   "execution_count": null,
   "metadata": {},
   "outputs": [],
   "source": []
  },
  {
   "cell_type": "code",
   "execution_count": null,
   "metadata": {},
   "outputs": [],
   "source": []
  }
 ],
 "metadata": {
  "kernelspec": {
   "display_name": "Python 3",
   "language": "python",
   "name": "python3"
  },
  "language_info": {
   "codemirror_mode": {
    "name": "ipython",
    "version": 3
   },
   "file_extension": ".py",
   "mimetype": "text/x-python",
   "name": "python",
   "nbconvert_exporter": "python",
   "pygments_lexer": "ipython3",
   "version": "3.5.2"
  }
 },
 "nbformat": 4,
 "nbformat_minor": 1
}
