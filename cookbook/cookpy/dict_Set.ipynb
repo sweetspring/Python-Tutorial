{
 "cells": [
  {
   "cell_type": "markdown",
   "metadata": {},
   "source": [
    "# 字典和集合操作 (Dictionary，Set)\n",
    "在本练习中你可以完成大部分常用的字典和集合操作\n",
    "- 创建字典，获取字典元素，赋值\n",
    "- 遍历字典元素，格式化输出\n",
    "\n",
    "- 创建集合，添加、删除元素"
   ]
  },
  {
   "cell_type": "code",
   "execution_count": 1,
   "metadata": {},
   "outputs": [
    {
     "name": "stdout",
     "output_type": "stream",
     "text": [
      "dos\n",
      "rojo\n"
     ]
    }
   ],
   "source": [
    "#英译西班牙语字典\n",
    "\"\"\"A tiny English to Spanish dictionary is created,\n",
    "using the Python dictionary type dict.\n",
    "Then the dictionary is used, briefly.\n",
    "\"\"\"\n",
    "\n",
    "spanish = dict()\n",
    "spanish['hello'] = 'hola'\n",
    "spanish['yes'] = 'si'\n",
    "spanish['one'] = 'uno'\n",
    "spanish['two'] = 'dos'\n",
    "spanish['three'] = 'tres'\n",
    "spanish['red'] = 'rojo'\n",
    "spanish['black'] = 'negro'\n",
    "spanish['green'] = 'verde'\n",
    "spanish['blue'] = 'azul'\n",
    "\n",
    "print(spanish['two'])\n",
    "print(spanish['red'])"
   ]
  },
  {
   "cell_type": "code",
   "execution_count": 5,
   "metadata": {},
   "outputs": [
    {
     "name": "stdout",
     "output_type": "stream",
     "text": [
      "长\n",
      "True\n",
      "大\n",
      "N/A\n",
      "大\n",
      "N/A\n"
     ]
    }
   ],
   "source": [
    "#创建字典，获取字典元素等\n",
    "d = {'长江': '长', '黄河': '黄'}  # 创建一个新列表\n",
    "print(d['长江'])       # 按“键（key）”获取对应的值（entry）; 输出 \"长\"\n",
    "print('长江' in d)     # 检查字典中是否含有指定的键值（key); 输出 \"True\"\n",
    "d['东海'] = '大'     # 添加一对 key-entry\n",
    "print(d['东海'])      # 输出 \"大\"\n",
    "# print(d['太白山'])  # KeyError: '太白山' 不是字典中的一个键\n",
    "print(d.get('太白山', 'N/A'))  # 按“键（key）”获取对应的值（entry），如果不存在就给出默认值; 输出 \"N/A\"\n",
    "print(d.get('东海', 'N/A'))    # 按“键（key）”获取对应的值（entry），如果不存在就给出默认值; 输出 \"大\"\n",
    "del d['东海']         # 从字典中删除一个元素 \n",
    "print(d.get('东海', 'N/A')) # \"东海\" 已经不是字典中的一个键了; 输出 \"N/A\""
   ]
  },
  {
   "cell_type": "code",
   "execution_count": 6,
   "metadata": {},
   "outputs": [
    {
     "name": "stdout",
     "output_type": "stream",
     "text": [
      "A cat has 4 legs\n",
      "A person has 2 legs\n",
      "A spider has 8 legs\n"
     ]
    }
   ],
   "source": [
    "#遍历字典元素，格式化输出\n",
    "d = {'person': 2, 'cat': 4, 'spider': 8}\n",
    "for animal in d:\n",
    "    legs = d[animal]\n",
    "    print('A %s has %d legs' % (animal, legs))\n",
    "# 输出 \"A person has 2 legs\", \"A cat has 4 legs\", \"A spider has 8 legs\""
   ]
  },
  {
   "cell_type": "code",
   "execution_count": 16,
   "metadata": {},
   "outputs": [
    {
     "name": "stdout",
     "output_type": "stream",
     "text": [
      "[0, 1]\n",
      "<class 'tuple'>\n",
      "2\n",
      "1\n"
     ]
    }
   ],
   "source": [
    "#创建字典，其键（key）为数组（tuple）类型\n",
    "x = list(range(2))\n",
    "print(x) # 输出 [0, 1]\n",
    "d = {(x, x + 1): x for x in range(5)}  #创建字典{(0,1):0,(1,2):1,(2,3):2,(3,4):3}\n",
    "t = (2, 3)        # Create a tuple\n",
    "print(type(t))    # Prints \"<class 'tuple'>\"\n",
    "print(d[t])       # Prints \"2\"\n",
    "print(d[(1, 2)])  # Prints \"1\""
   ]
  },
  {
   "cell_type": "code",
   "execution_count": 7,
   "metadata": {},
   "outputs": [
    {
     "name": "stdout",
     "output_type": "stream",
     "text": [
      "True\n",
      "False\n",
      "True\n",
      "5\n",
      "5\n",
      "4\n"
     ]
    }
   ],
   "source": [
    "#创建集合 Set，添加、删除元素\n",
    "mountain = {'华山', '峨眉山', '黄山', '五台山'}\n",
    "print('华山' in mountain)   # 检查元素是否在集合中; 输出 \"True\"\n",
    "print('太行山' in mountain)  # 输出 \"False\"\n",
    "mountain.add('太行山')       # 添加一个元素到集合中 \n",
    "print('太行山' in mountain)  # 输出 \"True\"\n",
    "print(len(mountain))       # 集合中元素个数; 输出 \"5\"\n",
    "mountain.add('华山')        # 添加一个已有的元素到集合，那么是什么也不做\n",
    "print(len(mountain))       # 输出 \"5\"\n",
    "mountain.remove('五台山')     # 从集合中删除一个元素\n",
    "print(len(mountain))       # 输出 \"4\""
   ]
  },
  {
   "cell_type": "code",
   "execution_count": 9,
   "metadata": {},
   "outputs": [
    {
     "name": "stdout",
     "output_type": "stream",
     "text": [
      "{0, 1, 2, 3}\n"
     ]
    }
   ],
   "source": [
    "#创建集合，其中的元素符合一定的条件\n",
    "from math import sqrt\n",
    "nums = {int(sqrt(x)) for x in range(10)} #j集合由10以内的数开平方取整组成\n",
    "print(nums)  # 输出 \"{0, 1, 2, 3}\""
   ]
  }
 ],
 "metadata": {
  "kernelspec": {
   "display_name": "Python 3",
   "language": "python",
   "name": "python3"
  },
  "language_info": {
   "codemirror_mode": {
    "name": "ipython",
    "version": 3
   },
   "file_extension": ".py",
   "mimetype": "text/x-python",
   "name": "python",
   "nbconvert_exporter": "python",
   "pygments_lexer": "ipython3",
   "version": "3.5.2"
  }
 },
 "nbformat": 4,
 "nbformat_minor": 1
}
