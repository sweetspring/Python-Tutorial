{
 "cells": [
  {
   "cell_type": "markdown",
   "metadata": {},
   "source": [
    "# 列表操作 (List)\n",
    "在本练习中你可以完成大部分常用的列表操作\n",
    "- 截取子列表\n",
    "- 数组遍历\n",
    "- 数组元素运算\n"
   ]
  },
  {
   "cell_type": "code",
   "execution_count": 2,
   "metadata": {},
   "outputs": [
    {
     "data": {
      "text/plain": [
       "[]"
      ]
     },
     "execution_count": 2,
     "metadata": {},
     "output_type": "execute_result"
    }
   ],
   "source": [
    "#列表例子\n",
    "['red', 'green', 'blue']\n",
    "[1, 3, 5, 7, 9, 11]\n",
    "['silly', 57, 'mixed', -23, 'example']\n",
    "[] # the empty list"
   ]
  },
  {
   "cell_type": "code",
   "execution_count": 2,
   "metadata": {},
   "outputs": [
    {
     "name": "stdout",
     "output_type": "stream",
     "text": [
      "[0, 1, 2, 3, 4]\n",
      "[2, 3]\n",
      "[2, 3, 4]\n",
      "[0, 1]\n",
      "[0, 1, 2, 3, 4]\n",
      "[0, 1, 2, 3]\n",
      "[2, 3]\n",
      "[0, 1, 7, 8, 4]\n"
     ]
    }
   ],
   "source": [
    "#整数列表操作 截取子列表\n",
    "nums = list(range(5))     # 创建列表\n",
    "print(nums)               # 输出 \"[0, 1, 2, 3, 4]\"\n",
    "print(nums[2:4])          # 子引 2-4; 输出 \"[2, 3]\"\n",
    "print(nums[2:])           # 子列表索引 2-末尾; 输出 \"[2, 3, 4]\"\n",
    "print(nums[:2])           # 子列表索引 开始-2 ; 输出 \"[0, 1]\"\n",
    "print(nums[:])            # 整个列表; 输出 \"[0, 1, 2, 3, 4]\"\n",
    "print(nums[:-1])          # 子列表索引从末尾往前数，可以用负数表示; 输出 \"[0, 1, 2, 3]\"\n",
    "print(nums[-3:-1])        # 子列表索引从末尾往前数，可以用负数表示; 输出 \"[2, 3]\"\n",
    "nums[2:4] = [7, 8]        # 赋值给一段子列表\n",
    "print(nums)               # 输出 \"[0, 1, 7, 8, 4]\""
   ]
  },
  {
   "cell_type": "code",
   "execution_count": 3,
   "metadata": {},
   "outputs": [
    {
     "name": "stdout",
     "output_type": "stream",
     "text": [
      "cat\n",
      "dog\n",
      "duck\n"
     ]
    }
   ],
   "source": [
    "#列表遍历\n",
    "animals = ['cat', 'dog', 'duck']\n",
    "for animal in animals:\n",
    "    print(animal)\n",
    "\n",
    "#按行输出\n",
    "#cat\n",
    "#dog\n",
    "#duck"
   ]
  },
  {
   "cell_type": "code",
   "execution_count": 4,
   "metadata": {},
   "outputs": [
    {
     "name": "stdout",
     "output_type": "stream",
     "text": [
      "#1: cat\n",
      "#2: dog\n",
      "#3: duck\n"
     ]
    }
   ],
   "source": [
    "#列表遍历\n",
    "animals = ['cat', 'dog', 'duck']\n",
    "for idx, animal in enumerate(animals):\n",
    "    print('#%d: %s' % (idx + 1, animal))\n",
    "# 按行输出 \"#1: cat\", \"#2: dog\", \"#3: duck\""
   ]
  },
  {
   "cell_type": "code",
   "execution_count": 5,
   "metadata": {},
   "outputs": [
    {
     "name": "stdout",
     "output_type": "stream",
     "text": [
      "[0, 1, 4, 9, 16]\n"
     ]
    }
   ],
   "source": [
    "#列表元素运算\n",
    "nums = [0, 1, 2, 3, 4]\n",
    "squares = []\n",
    "for x in nums:\n",
    "    squares.append(x ** 2)\n",
    "print(squares)   # 输出 [0, 1, 4, 9, 16]"
   ]
  },
  {
   "cell_type": "code",
   "execution_count": 6,
   "metadata": {},
   "outputs": [
    {
     "name": "stdout",
     "output_type": "stream",
     "text": [
      "[0, 4, 16]\n",
      "2\n"
     ]
    }
   ],
   "source": [
    "#数组元素运算\n",
    "nums = [0, 1, 2, 3, 4]\n",
    "even_squares = [x ** 2 for x in nums if x % 2 == 0]\n",
    "print(even_squares)  # 输出 \"[0, 4, 16]\"\n",
    "\n",
    "print(len(nums) // 2) # 输出 2"
   ]
  },
  {
   "cell_type": "code",
   "execution_count": 10,
   "metadata": {},
   "outputs": [
    {
     "name": "stdout",
     "output_type": "stream",
     "text": [
      "[0, 1, 2, 3, 4] 2\n",
      "4\n",
      "[0, 1, '长江', 3, 4]\n",
      "[0, 1, '长江', 3, 4, '黄河']\n",
      "黄河 [0, 1, '长江', 3, 4]\n"
     ]
    }
   ],
   "source": [
    "#列表元素运算\n",
    "xs = [0, 1, 2, 3, 4]\n",
    "print(xs, xs[2])  # 输出 \"[0, 1, 2, 3, 4] 2\"\n",
    "print(xs[-1])     # 负数表示从列表末尾倒数， 输出 \"4\"\n",
    "xs[2] = '长江'     # 列表元素可以是不同元素\n",
    "print(xs)         # 输出 \"[0, 1, '长江',3,4]\"\n",
    "xs.append('黄河')  # 从列表末尾追加一个元素\n",
    "print(xs)         # 输出 \"[0, 1, '长江',3,4,'黄河']\"\n",
    "x = xs.pop()      # 删除最后一个元素\n",
    "print(x, xs)      # Prints \"黄河 [0, 1, '长江',3,4]\""
   ]
  },
  {
   "cell_type": "code",
   "execution_count": 4,
   "metadata": {},
   "outputs": [
    {
     "name": "stdout",
     "output_type": "stream",
     "text": [
      "2 <class 'int'>\n",
      "3.5 <class 'float'>\n",
      "[] <class 'list'>\n",
      "True <class 'bool'>\n",
      "None <class 'NoneType'>\n"
     ]
    }
   ],
   "source": [
    "print(2, type(2))\n",
    "print(3.5, type(3.5))\n",
    "print([], type([]))\n",
    "print(True, type(True))\n",
    "print(None, type(None))"
   ]
  },
  {
   "cell_type": "code",
   "execution_count": null,
   "metadata": {},
   "outputs": [],
   "source": []
  }
 ],
 "metadata": {
  "kernelspec": {
   "display_name": "Python 3",
   "language": "python",
   "name": "python3"
  },
  "language_info": {
   "codemirror_mode": {
    "name": "ipython",
    "version": 3
   },
   "file_extension": ".py",
   "mimetype": "text/x-python",
   "name": "python",
   "nbconvert_exporter": "python",
   "pygments_lexer": "ipython3",
   "version": "3.5.2"
  }
 },
 "nbformat": 4,
 "nbformat_minor": 1
}
