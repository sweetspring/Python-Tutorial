{
 "cells": [
  {
   "cell_type": "markdown",
   "metadata": {},
   "source": [
    "# scipy操作 \n",
    "在本练习中你可以了解大部分常用的 scipy操作 "
   ]
  },
  {
   "cell_type": "code",
   "execution_count": 5,
   "metadata": {},
   "outputs": [
    {
     "name": "stdout",
     "output_type": "stream",
     "text": [
      "uint8 (471, 709, 3)\n"
     ]
    }
   ],
   "source": [
    "# 图片读取，颜色和尺寸变换，存储\n",
    "from scipy.misc import imread, imsave, imresize\n",
    "\n",
    "# 将图片读入 numpy 矩阵\n",
    "img = imread('assets/samples/card19.jpg')\n",
    "print(img.dtype, img.shape)  # 输出 \"uint8 (400, 248, 3)\"\n",
    "\n",
    "# 在三个颜色通道上作尺度变换：乘以 [1, 0.95, 0.9] of shape (3,);\n",
    "# 即红色通道不变，绿色变为原来的0.95，蓝色变为原来的0.9，\n",
    "img_tinted = img * [1, 0.95, 0.9]\n",
    "\n",
    "# 将图片变成 300 * 300 大小。\n",
    "img_tinted = imresize(img_tinted, (300, 300))\n",
    "\n",
    "# 保存变换后的图片\n",
    "imsave('assets/output/card19_tinted.jpg', img_tinted)\n"
   ]
  },
  {
   "cell_type": "markdown",
   "metadata": {},
   "source": [
    "在 scipy.spatial.distance 中有如下距离， 可以作为 pdist 中的距离类型参数\n",
    "\n",
    "\n",
    "*   braycurtis       -- the Bray-Curtis distance. \n",
    "*   canberra         -- the Canberra distance.\n",
    "*   chebyshev        -- the Chebyshev distance.\n",
    "*   cityblock        -- the Manhattan distance.\n",
    "*   correlation      -- the Correlation distance.\n",
    "*   cosine           -- the Cosine distance.\n",
    "*   euclidean        -- the Euclidean distance.\n",
    "*   mahalanobis      -- the Mahalanobis distance.\n",
    "*   minkowski        -- the Minkowski distance.\n",
    "*   seuclidean       -- the normalized Euclidean distance.\n",
    "*   sqeuclidean      -- the squared Euclidean distance.\n",
    "*   wminkowski       -- the weighted Minkowski distance.\n"
   ]
  },
  {
   "cell_type": "code",
   "execution_count": 4,
   "metadata": {},
   "outputs": [
    {
     "name": "stdout",
     "output_type": "stream",
     "text": [
      "[[0 1]\n",
      " [1 0]\n",
      " [2 0]]\n",
      "[[ 0.          1.41421356  2.23606798]\n",
      " [ 1.41421356  0.          1.        ]\n",
      " [ 2.23606798  1.          0.        ]]\n",
      "[[ 0.  2.  3.]\n",
      " [ 2.  0.  1.]\n",
      " [ 3.  1.  0.]]\n"
     ]
    }
   ],
   "source": [
    "# 计算距离， 可用于数据分类，比如比较图片相似度\n",
    "import numpy as np\n",
    "from scipy.spatial.distance import pdist, squareform\n",
    "\n",
    "# 输出:\n",
    "# [[0 1]\n",
    "#  [1 0]\n",
    "#  [2 0]]\n",
    "x = np.array([[0, 1], [1, 0], [2, 0]])\n",
    "print(x)\n",
    "\n",
    "# 计算欧式距离.\n",
    "# d[i, j] =  x[i, :] 和 x[j, :]的欧式距离\n",
    "# 输出:\n",
    "# [[ 0.          1.41421356  2.23606798]\n",
    "#  [ 1.41421356  0.          1.        ]\n",
    "#  [ 2.23606798  1.          0.        ]]\n",
    "d = squareform(pdist(x, 'euclidean'))\n",
    "print(d)\n",
    "\n",
    "# 输出\n",
    "#[[ 0.  2.  3.]\n",
    "# [ 2.  0.  1.]\n",
    "3 [ 3.  1.  0.]]\n",
    "d = squareform(pdist(x, 'cityblock'))\n",
    "print(d)\n",
    "\n"
   ]
  },
  {
   "cell_type": "code",
   "execution_count": null,
   "metadata": {},
   "outputs": [],
   "source": []
  }
 ],
 "metadata": {
  "kernelspec": {
   "display_name": "Python 3",
   "language": "python",
   "name": "python3"
  },
  "language_info": {
   "codemirror_mode": {
    "name": "ipython",
    "version": 3
   },
   "file_extension": ".py",
   "mimetype": "text/x-python",
   "name": "python",
   "nbconvert_exporter": "python",
   "pygments_lexer": "ipython3",
   "version": "3.5.2"
  }
 },
 "nbformat": 4,
 "nbformat_minor": 1
}
