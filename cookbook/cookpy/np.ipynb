{
 "cells": [
  {
   "cell_type": "markdown",
   "metadata": {},
   "source": [
    "# Numpy 操作\n",
    "在本练习中你可以了解大部分常用的 Numpy 运算 (数组和矩阵运算)\n",
    "np.mat 是 np.array 的子集\n",
    "\n",
    "- 创建一维数组，获取数组长度，元素，改变元素\n",
    "- 创建2维数组，获取数组长度，元素，改变元素\n",
    "- 常用矩阵： 全0矩阵 全1矩阵 常数矩阵 单位矩阵 元素为随机数的矩阵\n",
    "- 子矩阵视图\n",
    "- 子矩阵一维、二维视图\n",
    "- 索引矩阵\n",
    "- 布尔矩阵\n",
    "- 矩阵的数学运算，对应元素的数学运算\n",
    "- 矩阵的点积\n",
    "- 矩阵的轴\n",
    "- 矩阵的转置\n",
    "- 矩阵的内积\n",
    "- 矩阵的外积"
   ]
  },
  {
   "cell_type": "markdown",
   "metadata": {},
   "source": [
    "回顾基本概念：\n",
    "\n",
    "* 向量的运算：\n",
    "\n",
    "  * 加减、数乘、数量积（点积、内积）、向量积（叉积、外积）\n",
    "\n",
    "* 对应的英文名称：\n",
    "  * 叉积： cross product\n",
    "  * 点积： dot product\n",
    "  * 内积： inner product | scalar prodct\n",
    "  * 外积： wedge product | outer product | exterior product\n",
    "  * 外积的符号是 ^, 英文念作 wedge。\n",
    "  * 混合积/三重积： triple product\n",
    "\n",
    "* 点积 a.b = |a| |b| cos(x)\n",
    "  * 两个矢量a = [a1, a2,…, an]和b = [b1, b2,…, bn]的点积定义为：\n",
    "    a·b=a1b1+a2b2+……+anbn\n",
    "    使用矩阵乘法并把（纵列）矢量当作n×1 矩阵，点积还可以写为：\n",
    "    a·b=a^T*b，这里的a^T指示矩阵a的转置。\n",
    "  * 点积的值由以下三个值确定：u的大小、v的大小、u,v夹角的余弦。    \n",
    "    * 在u,v非零的前提下，    \n",
    "      * 点积如果为负，则u,v形成的角大于90度；\n",
    "      * 如果为零，那么u,v垂直；\n",
    "      * 如果为正，那么u,v形成的角为锐角。\n",
    "      \n",
    "  * 用途\n",
    "    * 点积得到两个向量的夹角的cos值，通过它可以知道两个向量的相似性，利用点积可判断一个多边形是否面向摄像机还是背向摄像机\n",
    "    * 向量的点积与它们夹角的余弦成正比，因此在聚光灯的效果计算中，可以根据点积来得到光照效果，如果点积越大，说明夹角越小，则物理离光照的轴线越近，光照越强。\n",
    "    * 物理中，点积可以用来计算合力和功。若b为单位矢量，则点积即为a在方向b的投影，即给出了力在这个方向上的分解。功即是力和位移的点积。\n",
    "    * 计算机图形学常用来进行方向性判断，如两矢量点积大于0，则它们的方向朝向相近；如果小于0，则方向相反。\n",
    "    * 矢量内积是人工智能领域中的神经网络技术的数学基础之一，此方法还被用于动画渲染（Animation-Rendering）。\n",
    "  \n",
    "  \n",
    "* 比较内积、外积，在几何代数中，\n",
    "\n",
    "  * 内积是降阶操作，两个矢量的内积是标量（一个数），内积的结果定义在空间里，\n",
    "  * 外积是升阶操作，两个矢量的外积是二阶矢量，外积的结果则不是定义在空间里，是定义在另外的空间的。\n",
    "  \n",
    "* 叉积：a×b（有时也被写成a∧b，避免和字母x混淆），\n",
    "  * |向量a×向量b|=|a||b|sinθ在这里θ表示两向量之间的角夹角（0° ≤ θ ≤ 180°），它位于这两个矢量所定义的平面上\n",
    "  * 是有方向性的，不满足交换律，叉积交换，符号相反\n",
    "  * 几何意义\n",
    "    * 叉积的长度 |a×b| 可以解释成以a和b为邻边的平行四边形的面积。\n",
    "    * 混合积 [a b c] = (a×b)·c，使用内积和外积，能够定义混合积：(a×b)·c，参照叉乘的几何意义，混合积的几何意义表示以a，b，c为棱的平行六面体的体积。\n",
    "  * 代数规则\n",
    "    * 反交换律：a×b= -b×a\n",
    "    * 加法的分配律：a× (b+c) =a×b+a×c\n",
    "    * 与标量乘法兼容：(ra) ×b=a× (rb) = r(a×b)\n",
    "    * 不满足结合律，但满足雅可比恒等式：a× (b×c) +b× (c×a) +c× (a×b) =0\n",
    "    * 分配律，线性性和雅可比恒等式别表明：具有向量加法和叉积的 R3 构成了一个李代数。\n",
    "    * 两个非零向量 a 和 b 平行，当且仅当a×b=0\n",
    "  * 拉格朗日公式\n",
    "    这是一个著名的公式，而且非常有用： a× (b×c) =b(a·c) -c(a·b)\n",
    "  * 应用\n",
    "    在物理学光学和计算机图形学中，叉积被用于求物体光照相关问题。\n",
    "    求解光照的核心在于求出物体表面法线，而叉积运算保证了只要已知物体表面的两个非平行矢量(或者不在同一直线的三个点),就可依靠叉积求得法线。\n",
    "    \n",
    "* 矩阵有几个特有的属性使得计算更加容易，这些属性有：\n",
    "        (a) .T －－ 返回自身的转置\n",
    "        (b) .H －－ 返回自身的共轭转置\n",
    "        (c) .I －－ 返回自身的逆矩阵\n",
    "        (d) .A －－ 返回自身数据的2维数组的一个视图（没有做任何的拷贝）  \n",
    "        \n",
    "* 点积运算律\n",
    "    * 1.交换律：α·β=β·α　\n",
    "    * 2.分配律：(α+β)·γ=α·γ+β·γ　\n",
    "    * 3.若λ为数：(λα)·β=λ(α·β)=α·(λβ)　若λ、μ为数：：(λα)·(μβ)=λμ(α·β)　\n",
    "    * 4.α·α=|α|^2 ，此外：α·α=0〈=〉α=0。　\n",
    "    \n",
    "    向量的数量积不满足消去律，即一般情况下：α·β=α·γ，α≠0 ≠〉β=γ。　向量的数量积不满足结合律，即一般（α·β)·γ ≠〉α·（β·γ）　相互垂直的两向量数量积为0\n",
    "\n",
    "* 笛卡尔积是两个集合中元素的全影射；\n",
    "* 卷积是两个向量折返乘积的和；\n",
    "* to be completed， 更多请参考 https://github.com/mebusy/notes/blob/master/dev_notes/LinearAlgebra.md"
   ]
  },
  {
   "cell_type": "code",
   "execution_count": 3,
   "metadata": {},
   "outputs": [],
   "source": [
    "import numpy as np # 经常引用，用缩写更方便，以下每部分都需要这一行，所以单独列出，下面不再重复"
   ]
  },
  {
   "cell_type": "code",
   "execution_count": 9,
   "metadata": {},
   "outputs": [
    {
     "name": "stdout",
     "output_type": "stream",
     "text": [
      "<class 'numpy.ndarray'>\n",
      "(3,)\n",
      "1 2 3\n",
      "[5 2 3]\n"
     ]
    }
   ],
   "source": [
    "#创建一维数组，获取数组长度，元素，改变元素\n",
    "\n",
    "a = np.array([1, 2, 3])   # 创建一维数组\n",
    "print(type(a))            # 输出 \"<class 'numpy.ndarray'>\"\n",
    "print(a.shape)            # 输出 \"(3,)\"\n",
    "print(a[0], a[1], a[2])   # 输出 \"1 2 3\"\n",
    "a[0] = 5                  # 改变数组中的一个元素\n",
    "print(a)                  # 输出 \"[5 2 3]\""
   ]
  },
  {
   "cell_type": "code",
   "execution_count": 10,
   "metadata": {},
   "outputs": [
    {
     "name": "stdout",
     "output_type": "stream",
     "text": [
      "(2, 3)\n",
      "1 2 4\n",
      "[[1 2 3]\n",
      " [4 5 7]]\n"
     ]
    }
   ],
   "source": [
    "#创建2维数组，获取数组长度，元素，改变元素\n",
    "b = np.array([[1,2,3],[4,5,6]])    # 创建2维数组\n",
    "print(b.shape)                     # 输出 \"(2, 3)\"\n",
    "print(b[0, 0], b[0, 1], b[1, 0])   # 输出 \"1 2 4\"\n",
    "b[1,2] = 7                # 改变数组中的一个元素\n",
    "print(b)                  # 输出 \"[[1 2 3] [4 5 7]]\""
   ]
  },
  {
   "cell_type": "code",
   "execution_count": 53,
   "metadata": {},
   "outputs": [
    {
     "name": "stdout",
     "output_type": "stream",
     "text": [
      "[[ 0.  0.]\n",
      " [ 0.  0.]]\n",
      "[[ 1.  1.]]\n",
      "[[ 9.  9.]\n",
      " [ 9.  9.]]\n",
      "[[9 9]\n",
      " [9 9]]\n",
      "[[ 9.  9.]\n",
      " [ 9.  9.]]\n",
      "[[ 1.  0.]\n",
      " [ 0.  1.]]\n",
      "[[ 0.23363862  0.45123399]\n",
      " [ 0.25563663  0.42205855]]\n",
      "[0 1 2 3]\n",
      "[0, 1, 2, 3]\n",
      "[[ 0.  0.]\n",
      " [ 0.  0.]]\n",
      "[[ 1.  1.]]\n",
      "[[1 2 3]]\n"
     ]
    },
    {
     "name": "stderr",
     "output_type": "stream",
     "text": [
      "/usr/lib/python3/dist-packages/numpy/core/numeric.py:301: FutureWarning: in the future, full((2, 2), 9) will return an array of dtype('int64')\n",
      "  format(shape, fill_value, array(fill_value).dtype), FutureWarning)\n"
     ]
    }
   ],
   "source": [
    "#常用矩阵\n",
    "a = np.zeros((2,2))   # 创建一个全0矩阵\n",
    "print(a)              # 输出 \"[[ 0.  0.]\n",
    "                      #          [ 0.  0.]]\"\n",
    "\n",
    "b = np.ones((1,2))    # 创建一个全1矩阵\n",
    "print(b)              # 输出 \"[[ 1.  1.]]\"\n",
    "\n",
    "c = np.full((2,2), 9)  # 创建一个常数矩阵,python 3.5 下会有一 FutureWarning\n",
    "                       #      FutureWarning: in the future, full((2, 2), 9) will return an array of dtype('int64')\n",
    "print(c)               # 输出 \"[[ 9.  9.]\n",
    "                       #          [ 9.  9.]]\"\n",
    "\n",
    "ci = np.full((2,2), 9, dtype = np.int64)  # 以上会有一 warning, 我们可以指定数据类型 int64， 创建一个常数矩阵\n",
    "print(ci)              # 输出 \"[[ 9  9]\n",
    "                       #          [ 9  9]]\"\n",
    "\n",
    "cf = np.full((2,2), 9, dtype = np.float64)  # 指定数据类型 float64， 创建一个常数矩阵\n",
    "print(cf)              # 输出 \"[[ 9.  9.]\n",
    "                       #          [ 9.  9.]]\"  \n",
    "    \n",
    "d = np.eye(2)         # 创建一个2x2单位矩阵\n",
    "print(d)              # 输出 \"[[ 1.  0.]\n",
    "                      #          [ 0.  1.]]\"\n",
    "\n",
    "e = np.random.random((2,2))  # 创建一个矩阵，元素为随机数\n",
    "print(e)                     # 可能 输出 \"[[ 0.91940167  0.08143941]\n",
    "                             #               [ 0.68744134  0.87236687]]\"\n",
    "    \n",
    "# 利用arange来创建一个一维整数矩阵, 比较 f 和 g\n",
    "f = np.arange(4)\n",
    "print(f)      # 没逗号，是矩阵,输出 \"[0 1 2 3]\"\n",
    "\n",
    "flike = list(range(4)) # 比较 arange 和 range\n",
    "print(flike)      # 有逗号，是列表,输出 \"[0, 1, 2, 3]\"  \n",
    "\n",
    "g = np.empty_like(a)\n",
    "print(g)          #输出 [[ 0.  0.]\n",
    "                  #     [ 0.  0.]]\n",
    "\n",
    "h = np.empty_like(b)\n",
    "print(h)           #输出 [[ 1.  1.]] \n",
    "\n",
    "x = np.array([[1,2,3]])\n",
    "h = np.empty_like(x)\n",
    "print(h)          #输出 [[1 2 3]]  注意如果某个维度上尺寸为0，则原样输出，这比较奇怪, does it mean to be so?"
   ]
  },
  {
   "cell_type": "code",
   "execution_count": 12,
   "metadata": {},
   "outputs": [
    {
     "name": "stdout",
     "output_type": "stream",
     "text": [
      "[[ 1  2  3  4]\n",
      " [ 5  6  7  8]\n",
      " [ 9 10 11 12]]\n",
      "-----\n",
      "[[2 3]\n",
      " [6 7]]\n",
      "-----\n",
      "2\n",
      "-----\n",
      "0\n"
     ]
    }
   ],
   "source": [
    "#矩阵赋值与子矩阵视图\n",
    "\n",
    "# 创建一个3X4二维矩阵\n",
    "# [[ 1  2  3  4]\n",
    "#  [ 5  6  7  8]\n",
    "#  [ 9 10 11 12]]\n",
    "a = np.array([[1,2,3,4], [5,6,7,8], [9,10,11,12]])\n",
    "print(a)\n",
    "print('-----')\n",
    "# 取子矩阵2X2:\n",
    "# [[2 3]\n",
    "#  [6 7]]\n",
    "b = a[:2, 1:3]\n",
    "print(b)\n",
    "print('-----')\n",
    "# 子矩阵其实是原矩阵的一个视图，数据一样，就像指针指到了同一个存储空间，如果改变子矩阵，会改变原矩阵\n",
    "print(a[0, 1])   # 输出 \"2\"\n",
    "print('-----')\n",
    "b[0, 0] = 0     # b[0, 0] 的数据和 a[0, 1]一致\n",
    "print(a[0, 1])   # 输出 \"0\""
   ]
  },
  {
   "cell_type": "code",
   "execution_count": 17,
   "metadata": {},
   "outputs": [
    {
     "name": "stdout",
     "output_type": "stream",
     "text": [
      "[5 6 7 8] (4,)\n",
      "[[5 6 7 8]] (1, 4)\n",
      "[[ 5  6  7  8]\n",
      " [ 9 10 11 12]] (2, 4)\n",
      "[ 2  6 10] (3,)\n",
      "[[ 2]\n",
      " [ 6]\n",
      " [10]] (3, 1)\n"
     ]
    }
   ],
   "source": [
    "#矩阵赋值与子矩阵一维、二维视图，很搞\n",
    "\n",
    "# 创建一个3X4二维矩阵\n",
    "# [[ 1  2  3  4]\n",
    "#  [ 5  6  7  8]\n",
    "#  [ 9 10 11 12]]\n",
    "a = np.array([[1,2,3,4], [5,6,7,8], [9,10,11,12]])\n",
    "\n",
    "# 两种截取子矩阵的方法，对行操作:\n",
    "row_r1 = a[1, :]    # a 第2行的一维视图\n",
    "row_r2 = a[1:2, :]  # a 第2行的2维视图，取1行，其中 1 <= 行索引 < 2, 行索引的取值范围表示成数学集合范围为： [1,2)\n",
    "row_r2_2 = a[1:3, :]  # a 第2行的2维视图，取2行\n",
    "print(row_r1, row_r1.shape)  # 输出 \"[5 6 7 8] (4,)\"\n",
    "print(row_r2, row_r2.shape)  # 输出 \"[[5 6 7 8]] (1, 4)\"\n",
    "print(row_r2_2, row_r2_2.shape)  # 输出 \"[[ 5  6  7  8]\n",
    "                                 #       [ 9 10 11 12]] (2, 4)\"\n",
    "\n",
    "# 两种截取子矩阵的方法，对列操作:\n",
    "col_r1 = a[:, 1]\n",
    "col_r2 = a[:, 1:2]\n",
    "print(col_r1, col_r1.shape)  # 输出 \"[ 2  6 10] (3,)\"\n",
    "print(col_r2, col_r2.shape)  # 输出 \"[[ 2]\n",
    "                             #          [ 6]\n",
    "                             #          [10]] (3, 1)\""
   ]
  },
  {
   "cell_type": "code",
   "execution_count": 20,
   "metadata": {},
   "outputs": [
    {
     "name": "stdout",
     "output_type": "stream",
     "text": [
      "[[1 2]\n",
      " [3 4]\n",
      " [5 6]]\n",
      "[1 4 5]\n",
      "[1 4 5]\n",
      "[2 2]\n",
      "[2 2]\n",
      "[3 6 1]\n"
     ]
    }
   ],
   "source": [
    "#矩阵赋值与索引矩阵， 总的来说就是【为了偷懒少写几个字搞的缩写映射】\n",
    "a = np.array([[1,2], [3, 4], [5, 6]])\n",
    "print(a) # 输出  [[1 2]\n",
    "         #      [3 4]\n",
    "         #     [5 6]]\n",
    "        \n",
    "# 索引二维矩阵，很搞，以下返回3列一维矩阵 (3,) \n",
    "print(a[[0, 1, 2], [0, 1, 0]])  # 输出 \"[1 4 5]\"\n",
    "\n",
    "# 上面的索引矩阵索引等于:\n",
    "print(np.array([a[0, 0], a[1, 1], a[2, 0]]))  # 输出 \"[1 4 5]\"\n",
    "\n",
    "# 再来一边，\n",
    "print(a[[0, 0], [1, 1]])  # 输出 \"[2 2]\"\n",
    "\n",
    "# 上面的索引矩阵索引等于:\n",
    "print(np.array([a[0, 1], a[0, 1]]))  # 输出 \"[2 2]\"\n",
    "\n",
    "# 多练几次，再来一个，如果现在要输出[3 6 1]，该怎么办呢？ 可以作为奥数题测试下小朋友\n",
    "print(a[[1,2,0], [0,1,0]])  # 输出 \"[3 6 1]\""
   ]
  },
  {
   "cell_type": "markdown",
   "metadata": {},
   "source": [
    "* 思考： 用以上这种方法如何输出（，3）矩阵呢？"
   ]
  },
  {
   "cell_type": "code",
   "execution_count": 28,
   "metadata": {},
   "outputs": [
    {
     "name": "stdout",
     "output_type": "stream",
     "text": [
      "[[ 1  2  3]\n",
      " [ 4  5  6]\n",
      " [ 7  8  9]\n",
      " [10 11 12]]\n",
      "[ 1  6  7 11]\n",
      "[[11  2  3]\n",
      " [ 4  5 16]\n",
      " [17  8  9]\n",
      " [10 21 12]]\n"
     ]
    }
   ],
   "source": [
    "# 数据矩阵和索引矩阵\n",
    "# 承上，把索引矩阵放到另一个矩阵名字里，为什么要这么做呢？ \n",
    "# 想想图片那庞大的多维矩阵， 128层的神经网络，如果不单独管理索引，运算的时候引用起来会很凌乱\n",
    "# 再想想邮政管理，已经有了道路编号，但我们还是需要邮政编号，这算是一种高维度的管理思维吧\n",
    "\n",
    "# 创建矩阵，这个矩阵用于存放数据\n",
    "a = np.array([[1,2,3], [4,5,6], [7,8,9], [10, 11, 12]])\n",
    "\n",
    "print(a)  # 输出 \"array([[ 1,  2,  3],\n",
    "          #                [ 4,  5,  6],\n",
    "          #                [ 7,  8,  9],\n",
    "          #                [10, 11, 12]])\"\n",
    "\n",
    "# 创建矩阵，这个矩阵用于存放索引\n",
    "b = np.array([0, 2, 0, 1])\n",
    "\n",
    "# 组成索引矩阵，获取数据，每一行取一个数据，每一行取哪一列取决于 b\n",
    "# a[[0,1,2,3],[0, 2, 0, 1]]\n",
    "print(a[np.arange(4), b])  # 输出 \"[ 1  6  7 11]\"\n",
    "\n",
    "# 组成索引矩阵，对矩阵中的数据赋值，每一行改变一个数据，每一行改变哪一列取决于 b\n",
    "a[np.arange(4), b] += 10\n",
    "\n",
    "print(a)  # prints \"array([[11,  2,  3],\n",
    "          #                [ 4,  5, 16],\n",
    "          #                [17,  8,  9],\n",
    "          #                [10, 21, 12]])"
   ]
  },
  {
   "cell_type": "code",
   "execution_count": 30,
   "metadata": {
    "scrolled": true
   },
   "outputs": [
    {
     "name": "stdout",
     "output_type": "stream",
     "text": [
      "[[1 2]\n",
      " [3 4]\n",
      " [5 6]]\n",
      "[[False False]\n",
      " [ True  True]\n",
      " [ True  True]]\n",
      "[3 4 5 6]\n",
      "[3 4 5 6]\n"
     ]
    }
   ],
   "source": [
    "#数据矩阵和布尔矩阵\n",
    "a = np.array([[1,2], [3, 4], [5, 6]])\n",
    "print(a)\n",
    "bool_idx = (a > 2)   # 寻找矩阵 a 中大于 2 的元素，这个运算会返回一个 a 同样大小的布尔矩阵\n",
    "\n",
    "print(bool_idx)      # 输出    \"[[False False]\n",
    "                     #          [ True  True]\n",
    "                     #          [ True  True]]\"\n",
    "\n",
    "# 这个布尔矩阵可以用来获取矩阵a的子矩阵，获取其 True 对应的元素\n",
    "print(a[bool_idx])  # 输出 \"[3 4 5 6]\"\n",
    "\n",
    "# 以上可以缩写成一行，想想这个方法会用到哪里呢？ :\n",
    "print(a[a > 2])     # 输出 \"[3 4 5 6]\"\n"
   ]
  },
  {
   "cell_type": "code",
   "execution_count": 33,
   "metadata": {},
   "outputs": [
    {
     "name": "stdout",
     "output_type": "stream",
     "text": [
      "[[ 1  2  3]\n",
      " [ 7  8  9]\n",
      " [ 4  5  6]\n",
      " [10 11 12]]\n",
      "[[False False False]\n",
      " [ True  True  True]\n",
      " [False False  True]\n",
      " [ True  True  True]]\n",
      "[ 7  8  9  6 10 11 12]\n",
      "[ 7  8  9  6 10 11 12]\n"
     ]
    }
   ],
   "source": [
    "# 再来一边： 数据矩阵和布尔矩阵\n",
    "a = np.array([[1,2,3],[7,8,9],[4,5,6],[10,11,12]])\n",
    "print(a)  # 输出 [[ 1  2  3]\n",
    "          #      [ 7  8  9]\n",
    "          #      [ 4  5  6]\n",
    "          #      [10 11 12]]\n",
    "            \n",
    "bool_idx = (a > 5)   # 寻找矩阵 a 中大于 2 的元素，这个运算会返回一个 a 同样大小的布尔矩阵\n",
    "\n",
    "print(bool_idx)      # 输出    \"[[False False False]\n",
    "                     #          [ True  True  True]\n",
    "                     #          [False False  True]\n",
    "                     #          [ True  True  True]]\"\n",
    "\n",
    "# 这个布尔矩阵可以用来获取矩阵a的子矩阵，获取其 True 对应的元素\n",
    "print(a[bool_idx])  # 输出 \"[ 7  8  9  6 10 11 12]\"\n",
    "\n",
    "# 高个挑出来排成一排 :\n",
    "print(a[a > 5])     # 输出 \"[ 7  8  9  6 10 11 12]\"\n"
   ]
  },
  {
   "cell_type": "code",
   "execution_count": 36,
   "metadata": {},
   "outputs": [
    {
     "name": "stdout",
     "output_type": "stream",
     "text": [
      "[[  6.   8.]\n",
      " [ 10.  12.]]\n",
      "[[  6.   8.]\n",
      " [ 10.  12.]]\n",
      "[[-4. -4.]\n",
      " [-4. -4.]]\n",
      "[[-4. -4.]\n",
      " [-4. -4.]]\n",
      "[[  5.  12.]\n",
      " [ 21.  32.]]\n",
      "[[  5.  12.]\n",
      " [ 21.  32.]]\n",
      "[[ 0.2         0.33333333]\n",
      " [ 0.42857143  0.5       ]]\n",
      "[[ 0.2         0.33333333]\n",
      " [ 0.42857143  0.5       ]]\n",
      "[[ 1.          1.41421356]\n",
      " [ 1.73205081  2.        ]]\n"
     ]
    }
   ],
   "source": [
    "# 矩阵的数学运算，点到点的数学运算\n",
    "x = np.array([[1,2],[3,4]], dtype=np.float64)\n",
    "y = np.array([[5,6],[7,8]], dtype=np.float64)\n",
    "\n",
    "# 对应元素相加，输出\n",
    "# [[ 6.0  8.0]\n",
    "#  [10.0 12.0]]\n",
    "print(x + y)\n",
    "print(np.add(x, y))\n",
    "\n",
    "# 对应元素相减，输出\n",
    "# [[-4.0 -4.0]\n",
    "#  [-4.0 -4.0]]\n",
    "print(x - y)\n",
    "print(np.subtract(x, y))\n",
    "\n",
    "# 对应元素相乘，输出\n",
    "# [[ 5.0 12.0]\n",
    "#  [21.0 32.0]]\n",
    "print(x * y)\n",
    "print(np.multiply(x, y))\n",
    "\n",
    "# 对应元素相除，输出\n",
    "# [[ 0.2         0.33333333]\n",
    "#  [ 0.42857143  0.5       ]]\n",
    "print(x / y)\n",
    "print(np.divide(x, y))\n",
    "\n",
    "# X 矩阵元素开平方，输出\n",
    "# [[ 1.          1.41421356]\n",
    "#  [ 1.73205081  2.        ]]\n",
    "print(np.sqrt(x))\n"
   ]
  },
  {
   "cell_type": "markdown",
   "metadata": {},
   "source": [
    "\n"
   ]
  },
  {
   "cell_type": "code",
   "execution_count": 39,
   "metadata": {},
   "outputs": [
    {
     "name": "stdout",
     "output_type": "stream",
     "text": [
      "[[1 2]\n",
      " [3 4]]\n",
      "[[5 6]\n",
      " [7 8]]\n",
      "219\n",
      "219\n",
      "[29 67]\n",
      "[29 67]\n",
      "[[19 22]\n",
      " [43 50]]\n",
      "[[19 22]\n",
      " [43 50]]\n"
     ]
    }
   ],
   "source": [
    "# 二维矩阵和一维矩阵的点积\n",
    "x = np.array([[1,2],[3,4]])\n",
    "y = np.array([[5,6],[7,8]])\n",
    "print(x) #输出 [[1 2]   # --\n",
    "         #    [3 4]]  # __\n",
    "print(y) #输出 [[5 6]\n",
    "         #    [7 8]]  #     | |\n",
    "\n",
    "v = np.array([9,10])\n",
    "w = np.array([11, 12])\n",
    "\n",
    "# 向量内积和; 输出 219 = 9*11 + 10*12\n",
    "print(v.dot(w))\n",
    "print(np.dot(v, w))\n",
    "\n",
    "# 矩阵/向量乘积; 输出  [29 67] = [1*9+2*10 3*9+4*10]\n",
    "print(x.dot(v))\n",
    "print(np.dot(x, v))\n",
    "\n",
    "# 矩阵/向量乘积; 输出 \n",
    "# [[19 22]     \n",
    "#  [43 50]]  \n",
    "#  运算过程如下\n",
    "#  --  |  \n",
    "#  --     |\n",
    "#  __  |  \n",
    "#  __     |  \n",
    "#  19 = 1*5 + 2*7   22 = 1*6 + 2*8\n",
    "#  43 = 3*5 + 4*7   50 = 3*6 + 4*8\n",
    "print(x.dot(y))\n",
    "print(np.dot(x, y))"
   ]
  },
  {
   "cell_type": "code",
   "execution_count": 40,
   "metadata": {},
   "outputs": [
    {
     "name": "stdout",
     "output_type": "stream",
     "text": [
      "10\n",
      "[4 6]\n",
      "[3 7]\n"
     ]
    }
   ],
   "source": [
    "#矩阵的轴， 列0行1\n",
    "x = np.array([[1,2],[3,4]])\n",
    "\n",
    "print(np.sum(x))  # 所有元素相加，输出 \"10\"\n",
    "print(np.sum(x, axis=0))  # 各列所有元素相加，输出 \"[4 6]\"\n",
    "print(np.sum(x, axis=1))  # 各行所有元素相加，输出 \"[3 7]\""
   ]
  },
  {
   "cell_type": "markdown",
   "metadata": {},
   "source": [
    "* 思考： 这个轴的先后次序是怎么来的？"
   ]
  },
  {
   "cell_type": "code",
   "execution_count": 63,
   "metadata": {},
   "outputs": [
    {
     "name": "stdout",
     "output_type": "stream",
     "text": [
      "[[1 2]\n",
      " [3 4]]\n",
      "[[1 3]\n",
      " [2 4]]\n",
      "[1 2 3]\n",
      "[1 2 3]\n",
      "[[1 2 3]]\n",
      "[[1]\n",
      " [2]\n",
      " [3]]\n"
     ]
    }
   ],
   "source": [
    "#矩阵转置\n",
    "x = np.array([[1,2], [3,4]])\n",
    "print(x)    # 输出 \"[[1 2]\n",
    "            #          [3 4]]\"\n",
    "print(x.T)  # 输出 \"[[1 3]\n",
    "            #          [2 4]]\"\n",
    "\n",
    "# 注意：一维矩阵转置还是原状:\n",
    "v = np.array([1,2,3])\n",
    "print(v)    # 输出 \"[1 2 3]\"\n",
    "print(v.T)  # 输出 \"[1 2 3]\"\n",
    "\n",
    "\n",
    "# 那么怎么变成一个3行1列矩阵呢？加个维度:\n",
    "w = np.array([[1,2,3]])\n",
    "print(w)    # 输出 \"[[1 2 3]]\"\n",
    "print(w.T)  # 输出 \"[[1]\n",
    "            #       [2]\n",
    "            #       [3]]\""
   ]
  },
  {
   "cell_type": "code",
   "execution_count": 65,
   "metadata": {},
   "outputs": [
    {
     "name": "stdout",
     "output_type": "stream",
     "text": [
      "[[ 1  2  3]\n",
      " [ 4  5  6]\n",
      " [ 7  8  9]\n",
      " [10 11 12]]\n",
      "[1 0 1]\n",
      "[[ 1  2  3]\n",
      " [ 4  5  6]\n",
      " [ 7  8  9]\n",
      " [10 11 12]]\n",
      "[[ 2  2  4]\n",
      " [ 5  5  7]\n",
      " [ 8  8 10]\n",
      " [11 11 13]]\n",
      "[[ 0.  0.  0.]\n",
      " [ 0.  0.  0.]\n",
      " [ 0.  0.  0.]\n",
      " [ 0.  0.  0.]]\n",
      "[[0 0 0]\n",
      " [0 0 0]\n",
      " [0 0 0]\n",
      " [0 0 0]]\n"
     ]
    }
   ],
   "source": [
    "# 把向量 v 加到矩阵 x 上，在矩阵 y 中存储结果\n",
    "x = np.array([[1,2,3], [4,5,6], [7,8,9], [10, 11, 12]])\n",
    "v = np.array([1, 0, 1])\n",
    "y = np.empty_like(x)   # 创建一个和 x 同维度大小的空矩阵\n",
    "\n",
    "print(x)\n",
    "print(v)\n",
    "print(y)\n",
    "\n",
    "#输出：\n",
    "#[[ 1  2  3]\n",
    "# [ 4  5  6]\n",
    "# [ 7  8  9]\n",
    "# [10 11 12]]\n",
    "#[1 0 1]\n",
    "#[[0 0 0]  #疑似 bug *\n",
    "# [0 0 0]\n",
    "# [0 0 0]\n",
    "# [0 0 0]]\n",
    "\n",
    "# 给矩阵的每一行加上向量 v\n",
    "for i in range(4):\n",
    "    y[i, :] = x[i, :] + v\n",
    "\n",
    "print(y)\n",
    "# 输出\n",
    "# [[ 2  2  4]\n",
    "#  [ 5  5  7]\n",
    "#  [ 8  8 10]\n",
    "#  [11 11 13]]\n",
    "\n",
    "\n",
    "w = np.zeros(x.shape)  # 创建一个和 x 同维度大小的实数空矩阵, it's much more stable\n",
    "print(w)               # [[ 0.  0.  0.]\n",
    "                       # [ 0.  0.  0.]\n",
    "                       # [ 0.  0.  0.]\n",
    "                       # [ 0.  0.  0.]]\n",
    "\n",
    "z = np.empty_like(x)   # 创建一个和 x 同维度大小的整数空矩阵, this is to check if there's a bug of empty_like\n",
    "print(z)               # [[0 0 0]\n",
    "                       # [0 0 0]\n",
    "                       # [0 0 0]\n",
    "                       # [0 0 0]]      "
   ]
  },
  {
   "cell_type": "markdown",
   "metadata": {},
   "source": [
    "疑似 bug *: python 3.5.2  re-run after running this round, the output will be the same as x, it should be a bug of np.empty_like(). It can be repeated, but does not come out every time."
   ]
  },
  {
   "cell_type": "code",
   "execution_count": 68,
   "metadata": {},
   "outputs": [
    {
     "name": "stdout",
     "output_type": "stream",
     "text": [
      "[[1 0 1]\n",
      " [1 0 1]\n",
      " [1 0 1]\n",
      " [1 0 1]]\n",
      "[[ 2  2  4]\n",
      " [ 5  5  7]\n",
      " [ 8  8 10]\n",
      " [11 11 13]]\n"
     ]
    }
   ],
   "source": [
    "# 把向量 v 加到矩阵 x 上，在矩阵 y 中存储结果, tile 方法用来堆叠\n",
    "x = np.array([[1,2,3], [4,5,6], [7,8,9], [10, 11, 12]])\n",
    "v = np.array([1, 0, 1])\n",
    "vv = np.tile(v, (4, 1))   # 叠4行\n",
    "print(vv)                 # 输出 \"[[1 0 1]\n",
    "                          #          [1 0 1]\n",
    "                          #          [1 0 1]\n",
    "                          #          [1 0 1]]\"\n",
    "y = x + vv  #  x 和 vv 各元素相加\n",
    "print(y)  # 输出 \"[[ 2  2  4\n",
    "          #          [ 5  5  7]\n",
    "          #          [ 8  8 10]\n",
    "          #          [11 11 13]]\""
   ]
  },
  {
   "cell_type": "code",
   "execution_count": null,
   "metadata": {},
   "outputs": [],
   "source": [
    "\n",
    "# 计算向量外积\n",
    "v = np.array([1,2,3])  # v 的 shape (3,)\n",
    "w = np.array([4,5])    # w 的 shape (2,)\n",
    "# 为了计算外积, 首先将 v 变成一个 (3, 1) 的向量; 将其和 相乘为 (3, 2)的向量,  v 和 w 的外积为:\n",
    "# [[ 4  5]\n",
    "#  [ 8 10]\n",
    "#  [12 15]]\n",
    "print(np.reshape(v, (3, 1)) * w)\n",
    "\n",
    "# Add a vector to each row of a matrix\n",
    "x = np.array([[1,2,3], [4,5,6]])\n",
    "# x has shape (2, 3) and v has shape (3,) so they broadcast to (2, 3),\n",
    "# giving the following matrix:\n",
    "# [[2 4 6]\n",
    "#  [5 7 9]]\n",
    "print(x + v)\n",
    "\n",
    "# Add a vector to each column of a matrix\n",
    "# x has shape (2, 3) and w has shape (2,).\n",
    "# If we transpose x then it has shape (3, 2) and can be broadcast\n",
    "# against w to yield a result of shape (3, 2); transposing this result\n",
    "# yields the final result of shape (2, 3) which is the matrix x with\n",
    "# the vector w added to each column. Gives the following matrix:\n",
    "# [[ 5  6  7]\n",
    "#  [ 9 10 11]]\n",
    "print((x.T + w).T)\n",
    "# Another solution is to reshape w to be a column vector of shape (2, 1);\n",
    "# we can then broadcast it directly against x to produce the same\n",
    "# output.\n",
    "print(x + np.reshape(w, (2, 1)))\n",
    "\n",
    "# Multiply a matrix by a constant:\n",
    "# x has shape (2, 3). Numpy treats scalars as arrays of shape ();\n",
    "# these can be broadcast together to shape (2, 3), producing the\n",
    "# following array:\n",
    "# [[ 2  4  6]\n",
    "#  [ 8 10 12]]\n",
    "print(x * 2)"
   ]
  },
  {
   "cell_type": "code",
   "execution_count": 69,
   "metadata": {},
   "outputs": [
    {
     "name": "stdout",
     "output_type": "stream",
     "text": [
      "1.746   0.940918571843\n"
     ]
    }
   ],
   "source": [
    "x = 1.746\n",
    "y_tanh = np.tanh(x)\n",
    "\n",
    "print(x,' ',y_tanh)"
   ]
  },
  {
   "cell_type": "code",
   "execution_count": 5,
   "metadata": {},
   "outputs": [
    {
     "name": "stdout",
     "output_type": "stream",
     "text": [
      "[[2 2 1 1]\n",
      " [2 2 1 1]\n",
      " [1 1 2 2]\n",
      " [1 1 2 2]]\n"
     ]
    }
   ],
   "source": [
    "'''\n",
    "[[2 2 1 1]\n",
    " [2 2 1 1]\n",
    " [1 1 2 2]\n",
    " [1 1 2 2]]\n",
    "'''\n",
    "A=np.mat('2 2; 2 2'); B=np.mat('1 1; 1 1');\n",
    "print(np.bmat('A B; B A'))\n",
    " "
   ]
  },
  {
   "cell_type": "code",
   "execution_count": 11,
   "metadata": {},
   "outputs": [
    {
     "name": "stdout",
     "output_type": "stream",
     "text": [
      "[1 2 3]\n",
      "[[1 2 3]]\n"
     ]
    }
   ],
   "source": [
    "#由一维或二维数据创建矩阵\n",
    "a1=array([1,2,3])\n",
    "print(a1)\n",
    "b=matrix([1,2,3])\n",
    "print(b)"
   ]
  },
  {
   "cell_type": "code",
   "execution_count": 13,
   "metadata": {},
   "outputs": [
    {
     "name": "stdout",
     "output_type": "stream",
     "text": [
      "[[5]]\n",
      "[[2 2]]\n"
     ]
    }
   ],
   "source": [
    "#常见的矩阵运算\n",
    "#1. 矩阵相乘\n",
    "a1=mat([1,2]);      \n",
    "a2=mat([[1],[2]]);\n",
    "a3=a1*a2 #1*2的矩阵乘以2*1的矩阵，得到1*1的矩阵\n",
    "print(a3) #matrix([[5]])\n",
    "\n",
    "#2. 矩阵点乘\n",
    "#矩阵对应元素相乘\n",
    "a1=mat([1,1]);\n",
    "a2=mat([2,2]);\n",
    "a3=multiply(a1,a2)\n",
    "print(a3) #matrix([[2, 2]])"
   ]
  },
  {
   "cell_type": "code",
   "execution_count": 18,
   "metadata": {},
   "outputs": [
    {
     "name": "stdout",
     "output_type": "stream",
     "text": [
      "[[ 2.  0.]\n",
      " [ 0.  2.]]\n",
      "[[1 0]\n",
      " [1 0]]\n"
     ]
    }
   ],
   "source": [
    "#3.矩阵求逆，转置\n",
    "#矩阵求逆\n",
    "a1=mat(eye(2,2)*0.5)\n",
    "#matrix([[ 0.5,  0. ],\n",
    "#        [ 0. ,  0.5]])\n",
    "\n",
    "a2=a1.I  #求矩阵matrix([[0.5,0],[0,0.5]])的逆矩阵\n",
    "print(a2)\n",
    "#matrix([[ 2.,  0.],\n",
    "#        [ 0.,  2.]])\n",
    "\n",
    "\n",
    "#矩阵转置\n",
    "a1=mat([[1,1],[0,0]])\n",
    "#matrix([[1, 1],\n",
    "#        [0, 0]])\n",
    "\n",
    "a2=a1.T\n",
    "print(a2)\n",
    "#matrix([[1, 0],\n",
    "#        [1, 0]])"
   ]
  },
  {
   "cell_type": "code",
   "execution_count": null,
   "metadata": {},
   "outputs": [],
   "source": [
    "#4.计算矩阵对应行列的最大、最小值、和。\n",
    "\n",
    "a1=mat([[1,1],[2,3],[4,2]])\n",
    "#matrix([[1, 1],\n",
    "#        [2, 3],\n",
    "#        [4, 2]])\n",
    "\n",
    "#计算每一列、行的和\n",
    "a2=a1.sum(axis=0) #列和，这里得到的是1*2的矩阵\n",
    "print(a2)\n",
    "#matrix([[7, 6]])\n",
    "a3=a1.sum(axis=1) #行和，这里得到的是3*1的矩阵\n",
    "print(a3)\n",
    "#matrix([[2],\n",
    "#        [5],\n",
    "#        [6]])\n",
    "a4=sum(a1[1,:])  #计算第一行所有列的和，这里得到的是一个数值\n",
    "print(a4)\n",
    "#5                    #第0行：1+1；第2行：2+3；第3行：4+2\n",
    "\n",
    "#计算最大、最小值和索引\n",
    "print(a1.max())   #计算a1矩阵中所有元素的最大值,这里得到的结果是一个数值\n",
    "a2=max(a1[:,1]) #计算第二列的最大值，这里得到的是一个1*1的矩阵\n",
    "print( a2)\n",
    "#matrix([[3]])\n",
    "a1[1,:].max()  #计算第二行的最大值，这里得到的是一个数值\n",
    "print (a1) #3\n",
    "print(np.max(a1,0))  #计算所有列的最大值，这里使用的是numpy中的max函数\n",
    "                                 #matrix([[4, 3]])\n",
    "print(np.max(a1,1))  #计算所有行的最大值，这里得到是一个矩阵\n",
    "                                 #matrix([[1],\n",
    "                                 #        [3],\n",
    "                                 #        [4]])\n",
    "print(np.argmax(a1,0)) #计算所有列的最大值对应在该列中的索引\n",
    "                                 #matrix([[2, 1]])\n",
    "print(np.argmax(a1[1,:]))  #计算第二行中最大值对应在该行的索引\n",
    "                                         # 1"
   ]
  },
  {
   "cell_type": "code",
   "execution_count": 19,
   "metadata": {},
   "outputs": [
    {
     "name": "stdout",
     "output_type": "stream",
     "text": [
      "[[1 2 3]\n",
      " [4 5 3]]\n",
      "[[5 3]]\n",
      "[[ 1.  1.]\n",
      " [ 1.  1.]]\n",
      "[[ 1.  0.]\n",
      " [ 0.  1.]]\n",
      "[[ 1.  1.]\n",
      " [ 1.  1.]\n",
      " [ 1.  0.]\n",
      " [ 0.  1.]]\n",
      "[[ 1.  1.  1.  0.]\n",
      " [ 1.  1.  0.  1.]]\n"
     ]
    }
   ],
   "source": [
    "#5.矩阵的分隔和合并\n",
    "#矩阵的分隔，同列表和数组的分隔一致。\n",
    "#a=mat(ones((3,3)))\n",
    "print( a)\n",
    "#matrix([[ 1.,  1.,  1.],\n",
    "#        [ 1.,  1.,  1.],\n",
    "#        [ 1.,  1.,  1.]])\n",
    "b=a[1:,1:]  #分割出第二行以后的行和第二列以后的列的所有元素\n",
    "print(b)\n",
    "# matrix([[ 1.,  1.],\n",
    "#         [ 1.,  1.]])\n",
    "\n",
    " \n",
    "\n",
    "#矩阵的合并\n",
    "\n",
    "\n",
    "a=mat(ones((2,2)))\n",
    "print( a)\n",
    "# matrix([[ 1.,  1.],\n",
    "#       [ 1.,  1.]])\n",
    "b=mat(eye(2))\n",
    "print(b)\n",
    "#matrix([[ 1.,  0.],\n",
    "#       [ 0.,  1.]])\n",
    "c=vstack((a,b))  #按列合并，即增加行数\n",
    "print(c)\n",
    "#matrix([[ 1.,  1.],\n",
    "#        [ 1.,  1.],\n",
    "#        [ 1.,  0.],\n",
    "#        [ 0.,  1.]])\n",
    "d=hstack((a,b))  #按行合并，即行数不变，扩展列数\n",
    "print(d)\n",
    "#matrix([[ 1.,  1.,  1.,  0.],\n",
    "#        [ 1.,  1.,  0.,  1.]])"
   ]
  },
  {
   "cell_type": "code",
   "execution_count": 22,
   "metadata": {},
   "outputs": [
    {
     "name": "stdout",
     "output_type": "stream",
     "text": [
      "2\n",
      "2 2\n",
      "4\n",
      "float64\n"
     ]
    }
   ],
   "source": [
    "dimension=a.ndim\n",
    "print(dimension)\n",
    "m,n=a.shape\n",
    "print(m,n)\n",
    "number=a.size #元素总个数\n",
    "print(number)\n",
    "str=a.dtype #元素的类型\n",
    "print(str)"
   ]
  },
  {
   "cell_type": "code",
   "execution_count": 23,
   "metadata": {},
   "outputs": [
    {
     "name": "stdout",
     "output_type": "stream",
     "text": [
      "[[1, 2], [3, 2], [5, 2]]\n",
      "[[1 2]\n",
      " [3 2]\n",
      " [5 2]]\n",
      "[[1 2]\n",
      " [3 2]\n",
      " [5 2]]\n",
      "[[1 2]\n",
      " [3 2]\n",
      " [5 2]]\n",
      "[[1 2]\n",
      " [3 2]\n",
      " [5 2]]\n",
      "[[1, 2], [3, 2], [5, 2]]\n",
      "[[1, 2], [3, 2], [5, 2]]\n"
     ]
    }
   ],
   "source": [
    "#矩阵与数组之间的转换：\n",
    "a1=[[1,2],[3,2],[5,2]]  #列表\n",
    "print(a1)\n",
    "#[[1, 2], [3, 2], [5, 2]]\n",
    "a2=array(a1)  #将列表转换成二维数组\n",
    "print(a2)\n",
    "#array([[1, 2],\n",
    "#       [3, 2],\n",
    "#       [5, 2]])\n",
    "a3=mat(a1)  #将列表转化成矩阵\n",
    "print(a3)\n",
    "#matrix([[1, 2],\n",
    "#        [3, 2],\n",
    "#        [5, 2]])\n",
    "a4=array(a3)  #将矩阵转换成数组\n",
    "print(a4)\n",
    "#array([[1, 2],\n",
    "#       [3, 2],\n",
    "#       [5, 2]])\n",
    "a41=a3.getA()  #将矩阵转换成数组\n",
    "print(a41)\n",
    "#array([[1,2]\n",
    "#       [3,2]\n",
    "#       [5,2]])\n",
    "a5=a3.tolist()  #将矩阵转换成列表\n",
    "print(a5)\n",
    "#[[1, 2], [3, 2], [5, 2]]\n",
    "a6=a2.tolist()  #将数组转换成列表\n",
    "print(a6)\n",
    "#[[1, 2], [3, 2], [5, 2]]"
   ]
  },
  {
   "cell_type": "code",
   "execution_count": 24,
   "metadata": {},
   "outputs": [
    {
     "name": "stdout",
     "output_type": "stream",
     "text": [
      "1\n"
     ]
    }
   ],
   "source": [
    "dataMat=mat([1])\n",
    "val=dataMat[0,0]  #这个时候获取的就是矩阵的元素的数值，而不再是矩阵的类型\n",
    "print(val)"
   ]
  },
  {
   "cell_type": "code",
   "execution_count": null,
   "metadata": {},
   "outputs": [],
   "source": []
  }
 ],
 "metadata": {
  "kernelspec": {
   "display_name": "Python 3",
   "language": "python",
   "name": "python3"
  },
  "language_info": {
   "codemirror_mode": {
    "name": "ipython",
    "version": 3
   },
   "file_extension": ".py",
   "mimetype": "text/x-python",
   "name": "python",
   "nbconvert_exporter": "python",
   "pygments_lexer": "ipython3",
   "version": "3.5.2"
  }
 },
 "nbformat": 4,
 "nbformat_minor": 1
}
